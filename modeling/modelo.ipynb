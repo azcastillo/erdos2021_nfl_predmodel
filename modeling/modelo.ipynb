{
 "cells": [
  {
   "cell_type": "code",
   "execution_count": 1,
   "metadata": {
    "id": "WMk0pRn9357i"
   },
   "outputs": [],
   "source": [
    "import pandas as pd\n",
    "import numpy as np\n",
    "import matplotlib.pyplot as plt\n",
    "import seaborn as sns\n",
    "import os\n",
    "import datetime \n",
    "import pickle"
   ]
  },
  {
   "cell_type": "code",
   "execution_count": 2,
   "metadata": {
    "id": "JCGxAEw64V1B"
   },
   "outputs": [],
   "source": [
    "### load dataset\n",
    "df_plays=pd.read_csv(\"/home/pedrozamboni/Documentos/doutorado/erodes_data_camp/nfl-big-data-bowl-2021/plays.csv\")"
   ]
  },
  {
   "cell_type": "code",
   "execution_count": 3,
   "metadata": {
    "id": "6-sHSZtC4BHr"
   },
   "outputs": [],
   "source": [
    "### selecting features\n",
    "new_df=df_plays[['quarter','down','yardsToGo','playType','personnelO','personnelD','playResult']]"
   ]
  },
  {
   "cell_type": "code",
   "execution_count": 4,
   "metadata": {
    "colab": {
     "base_uri": "https://localhost:8080/"
    },
    "id": "BKSnZ5t34aDX",
    "outputId": "02a07e1b-2aac-46b2-9ee6-568b5150457a"
   },
   "outputs": [
    {
     "name": "stdout",
     "output_type": "stream",
     "text": [
      "<class 'pandas.core.frame.DataFrame'>\n",
      "RangeIndex: 19239 entries, 0 to 19238\n",
      "Data columns (total 7 columns):\n",
      " #   Column      Non-Null Count  Dtype \n",
      "---  ------      --------------  ----- \n",
      " 0   quarter     19239 non-null  int64 \n",
      " 1   down        19239 non-null  int64 \n",
      " 2   yardsToGo   19239 non-null  int64 \n",
      " 3   playType    19239 non-null  object\n",
      " 4   personnelO  19210 non-null  object\n",
      " 5   personnelD  19210 non-null  object\n",
      " 6   playResult  19239 non-null  int64 \n",
      "dtypes: int64(4), object(3)\n",
      "memory usage: 1.0+ MB\n"
     ]
    }
   ],
   "source": [
    "new_df.info()"
   ]
  },
  {
   "cell_type": "code",
   "execution_count": 5,
   "metadata": {},
   "outputs": [
    {
     "name": "stdout",
     "output_type": "stream",
     "text": [
      "<class 'pandas.core.frame.DataFrame'>\n",
      "Int64Index: 19210 entries, 0 to 19238\n",
      "Data columns (total 7 columns):\n",
      " #   Column      Non-Null Count  Dtype \n",
      "---  ------      --------------  ----- \n",
      " 0   quarter     19210 non-null  int64 \n",
      " 1   down        19210 non-null  int64 \n",
      " 2   yardsToGo   19210 non-null  int64 \n",
      " 3   playType    19210 non-null  object\n",
      " 4   personnelO  19210 non-null  object\n",
      " 5   personnelD  19210 non-null  object\n",
      " 6   playResult  19210 non-null  int64 \n",
      "dtypes: int64(4), object(3)\n",
      "memory usage: 1.2+ MB\n"
     ]
    },
    {
     "name": "stderr",
     "output_type": "stream",
     "text": [
      "/home/pedrozamboni/anaconda3/lib/python3.7/site-packages/pandas/core/generic.py:6746: SettingWithCopyWarning: \n",
      "A value is trying to be set on a copy of a slice from a DataFrame\n",
      "\n",
      "See the caveats in the documentation: https://pandas.pydata.org/pandas-docs/stable/user_guide/indexing.html#returning-a-view-versus-a-copy\n",
      "  self._update_inplace(new_data)\n",
      "/home/pedrozamboni/anaconda3/lib/python3.7/site-packages/ipykernel_launcher.py:2: SettingWithCopyWarning: \n",
      "A value is trying to be set on a copy of a slice from a DataFrame\n",
      "\n",
      "See the caveats in the documentation: https://pandas.pydata.org/pandas-docs/stable/user_guide/indexing.html#returning-a-view-versus-a-copy\n",
      "  \n"
     ]
    }
   ],
   "source": [
    "new_df['personnelD'].replace('', np.nan, inplace=True)\n",
    "new_df.dropna(subset=['personnelD'], inplace=True)\n",
    "new_df.info()"
   ]
  },
  {
   "cell_type": "code",
   "execution_count": 6,
   "metadata": {},
   "outputs": [
    {
     "data": {
      "text/html": [
       "<div>\n",
       "<style scoped>\n",
       "    .dataframe tbody tr th:only-of-type {\n",
       "        vertical-align: middle;\n",
       "    }\n",
       "\n",
       "    .dataframe tbody tr th {\n",
       "        vertical-align: top;\n",
       "    }\n",
       "\n",
       "    .dataframe thead th {\n",
       "        text-align: right;\n",
       "    }\n",
       "</style>\n",
       "<table border=\"1\" class=\"dataframe\">\n",
       "  <thead>\n",
       "    <tr style=\"text-align: right;\">\n",
       "      <th></th>\n",
       "      <th>quarter</th>\n",
       "      <th>down</th>\n",
       "      <th>yardsToGo</th>\n",
       "      <th>playType</th>\n",
       "      <th>personnelO</th>\n",
       "      <th>personnelD</th>\n",
       "      <th>playResult</th>\n",
       "    </tr>\n",
       "  </thead>\n",
       "  <tbody>\n",
       "    <tr>\n",
       "      <th>0</th>\n",
       "      <td>1</td>\n",
       "      <td>1</td>\n",
       "      <td>15</td>\n",
       "      <td>play_type_pass</td>\n",
       "      <td>2 RB, 1 TE, 2 WR</td>\n",
       "      <td>4 DL, 2 LB, 5 DB</td>\n",
       "      <td>10</td>\n",
       "    </tr>\n",
       "    <tr>\n",
       "      <th>1</th>\n",
       "      <td>1</td>\n",
       "      <td>1</td>\n",
       "      <td>10</td>\n",
       "      <td>play_type_pass</td>\n",
       "      <td>1 RB, 1 TE, 3 WR</td>\n",
       "      <td>4 DL, 2 LB, 5 DB</td>\n",
       "      <td>0</td>\n",
       "    </tr>\n",
       "    <tr>\n",
       "      <th>2</th>\n",
       "      <td>1</td>\n",
       "      <td>2</td>\n",
       "      <td>10</td>\n",
       "      <td>play_type_pass</td>\n",
       "      <td>2 RB, 1 TE, 2 WR</td>\n",
       "      <td>4 DL, 2 LB, 5 DB</td>\n",
       "      <td>0</td>\n",
       "    </tr>\n",
       "    <tr>\n",
       "      <th>3</th>\n",
       "      <td>1</td>\n",
       "      <td>3</td>\n",
       "      <td>10</td>\n",
       "      <td>play_type_pass</td>\n",
       "      <td>1 RB, 1 TE, 3 WR</td>\n",
       "      <td>4 DL, 1 LB, 6 DB</td>\n",
       "      <td>33</td>\n",
       "    </tr>\n",
       "    <tr>\n",
       "      <th>4</th>\n",
       "      <td>1</td>\n",
       "      <td>3</td>\n",
       "      <td>1</td>\n",
       "      <td>play_type_pass</td>\n",
       "      <td>2 RB, 3 TE, 0 WR</td>\n",
       "      <td>6 DL, 3 LB, 2 DB</td>\n",
       "      <td>0</td>\n",
       "    </tr>\n",
       "    <tr>\n",
       "      <th>...</th>\n",
       "      <td>...</td>\n",
       "      <td>...</td>\n",
       "      <td>...</td>\n",
       "      <td>...</td>\n",
       "      <td>...</td>\n",
       "      <td>...</td>\n",
       "      <td>...</td>\n",
       "    </tr>\n",
       "    <tr>\n",
       "      <th>19234</th>\n",
       "      <td>3</td>\n",
       "      <td>2</td>\n",
       "      <td>5</td>\n",
       "      <td>play_type_unknown</td>\n",
       "      <td>1 RB, 1 TE, 3 WR</td>\n",
       "      <td>2 DL, 4 LB, 5 DB</td>\n",
       "      <td>5</td>\n",
       "    </tr>\n",
       "    <tr>\n",
       "      <th>19235</th>\n",
       "      <td>4</td>\n",
       "      <td>3</td>\n",
       "      <td>7</td>\n",
       "      <td>play_type_unknown</td>\n",
       "      <td>1 RB, 1 TE, 3 WR</td>\n",
       "      <td>2 DL, 4 LB, 5 DB</td>\n",
       "      <td>5</td>\n",
       "    </tr>\n",
       "    <tr>\n",
       "      <th>19236</th>\n",
       "      <td>1</td>\n",
       "      <td>3</td>\n",
       "      <td>4</td>\n",
       "      <td>play_type_unknown</td>\n",
       "      <td>1 RB, 1 TE, 3 WR</td>\n",
       "      <td>1 DL, 5 LB, 5 DB</td>\n",
       "      <td>-10</td>\n",
       "    </tr>\n",
       "    <tr>\n",
       "      <th>19237</th>\n",
       "      <td>2</td>\n",
       "      <td>3</td>\n",
       "      <td>1</td>\n",
       "      <td>play_type_unknown</td>\n",
       "      <td>1 RB, 1 TE, 3 WR</td>\n",
       "      <td>2 DL, 3 LB, 6 DB</td>\n",
       "      <td>15</td>\n",
       "    </tr>\n",
       "    <tr>\n",
       "      <th>19238</th>\n",
       "      <td>3</td>\n",
       "      <td>1</td>\n",
       "      <td>10</td>\n",
       "      <td>play_type_unknown</td>\n",
       "      <td>1 RB, 1 TE, 3 WR</td>\n",
       "      <td>4 DL, 1 LB, 6 DB</td>\n",
       "      <td>9</td>\n",
       "    </tr>\n",
       "  </tbody>\n",
       "</table>\n",
       "<p>19210 rows × 7 columns</p>\n",
       "</div>"
      ],
      "text/plain": [
       "       quarter  down  yardsToGo           playType        personnelO  \\\n",
       "0            1     1         15     play_type_pass  2 RB, 1 TE, 2 WR   \n",
       "1            1     1         10     play_type_pass  1 RB, 1 TE, 3 WR   \n",
       "2            1     2         10     play_type_pass  2 RB, 1 TE, 2 WR   \n",
       "3            1     3         10     play_type_pass  1 RB, 1 TE, 3 WR   \n",
       "4            1     3          1     play_type_pass  2 RB, 3 TE, 0 WR   \n",
       "...        ...   ...        ...                ...               ...   \n",
       "19234        3     2          5  play_type_unknown  1 RB, 1 TE, 3 WR   \n",
       "19235        4     3          7  play_type_unknown  1 RB, 1 TE, 3 WR   \n",
       "19236        1     3          4  play_type_unknown  1 RB, 1 TE, 3 WR   \n",
       "19237        2     3          1  play_type_unknown  1 RB, 1 TE, 3 WR   \n",
       "19238        3     1         10  play_type_unknown  1 RB, 1 TE, 3 WR   \n",
       "\n",
       "             personnelD  playResult  \n",
       "0      4 DL, 2 LB, 5 DB          10  \n",
       "1      4 DL, 2 LB, 5 DB           0  \n",
       "2      4 DL, 2 LB, 5 DB           0  \n",
       "3      4 DL, 1 LB, 6 DB          33  \n",
       "4      6 DL, 3 LB, 2 DB           0  \n",
       "...                 ...         ...  \n",
       "19234  2 DL, 4 LB, 5 DB           5  \n",
       "19235  2 DL, 4 LB, 5 DB           5  \n",
       "19236  1 DL, 5 LB, 5 DB         -10  \n",
       "19237  2 DL, 3 LB, 6 DB          15  \n",
       "19238  4 DL, 1 LB, 6 DB           9  \n",
       "\n",
       "[19210 rows x 7 columns]"
      ]
     },
     "execution_count": 6,
     "metadata": {},
     "output_type": "execute_result"
    }
   ],
   "source": [
    "new_df"
   ]
  },
  {
   "cell_type": "code",
   "execution_count": 7,
   "metadata": {},
   "outputs": [],
   "source": [
    "df_personnelO=df_plays.personnelO.value_counts().index[0:10]\n",
    "df_presonnelD=df_plays.personnelD.value_counts().index[0:10]"
   ]
  },
  {
   "cell_type": "code",
   "execution_count": 8,
   "metadata": {},
   "outputs": [],
   "source": [
    "### 10 def. that appear the most\n",
    "new_df=new_df.loc[new_df['personnelD'].isin(df_presonnelD)]"
   ]
  },
  {
   "cell_type": "code",
   "execution_count": 9,
   "metadata": {},
   "outputs": [],
   "source": [
    "### 10 off. that appear the most\n",
    "\n",
    "new_df=new_df.loc[new_df['personnelO'].isin(df_personnelO)]"
   ]
  },
  {
   "cell_type": "code",
   "execution_count": 10,
   "metadata": {},
   "outputs": [
    {
     "data": {
      "text/html": [
       "<div>\n",
       "<style scoped>\n",
       "    .dataframe tbody tr th:only-of-type {\n",
       "        vertical-align: middle;\n",
       "    }\n",
       "\n",
       "    .dataframe tbody tr th {\n",
       "        vertical-align: top;\n",
       "    }\n",
       "\n",
       "    .dataframe thead th {\n",
       "        text-align: right;\n",
       "    }\n",
       "</style>\n",
       "<table border=\"1\" class=\"dataframe\">\n",
       "  <thead>\n",
       "    <tr style=\"text-align: right;\">\n",
       "      <th></th>\n",
       "      <th>quarter</th>\n",
       "      <th>down</th>\n",
       "      <th>yardsToGo</th>\n",
       "      <th>playType</th>\n",
       "      <th>personnelO</th>\n",
       "      <th>personnelD</th>\n",
       "      <th>playResult</th>\n",
       "    </tr>\n",
       "  </thead>\n",
       "  <tbody>\n",
       "    <tr>\n",
       "      <th>0</th>\n",
       "      <td>1</td>\n",
       "      <td>1</td>\n",
       "      <td>15</td>\n",
       "      <td>play_type_pass</td>\n",
       "      <td>2 RB, 1 TE, 2 WR</td>\n",
       "      <td>4 DL, 2 LB, 5 DB</td>\n",
       "      <td>10</td>\n",
       "    </tr>\n",
       "    <tr>\n",
       "      <th>1</th>\n",
       "      <td>1</td>\n",
       "      <td>1</td>\n",
       "      <td>10</td>\n",
       "      <td>play_type_pass</td>\n",
       "      <td>1 RB, 1 TE, 3 WR</td>\n",
       "      <td>4 DL, 2 LB, 5 DB</td>\n",
       "      <td>0</td>\n",
       "    </tr>\n",
       "    <tr>\n",
       "      <th>2</th>\n",
       "      <td>1</td>\n",
       "      <td>2</td>\n",
       "      <td>10</td>\n",
       "      <td>play_type_pass</td>\n",
       "      <td>2 RB, 1 TE, 2 WR</td>\n",
       "      <td>4 DL, 2 LB, 5 DB</td>\n",
       "      <td>0</td>\n",
       "    </tr>\n",
       "    <tr>\n",
       "      <th>3</th>\n",
       "      <td>1</td>\n",
       "      <td>3</td>\n",
       "      <td>10</td>\n",
       "      <td>play_type_pass</td>\n",
       "      <td>1 RB, 1 TE, 3 WR</td>\n",
       "      <td>4 DL, 1 LB, 6 DB</td>\n",
       "      <td>33</td>\n",
       "    </tr>\n",
       "    <tr>\n",
       "      <th>5</th>\n",
       "      <td>1</td>\n",
       "      <td>2</td>\n",
       "      <td>8</td>\n",
       "      <td>play_type_pass</td>\n",
       "      <td>1 RB, 1 TE, 3 WR</td>\n",
       "      <td>3 DL, 3 LB, 5 DB</td>\n",
       "      <td>4</td>\n",
       "    </tr>\n",
       "    <tr>\n",
       "      <th>...</th>\n",
       "      <td>...</td>\n",
       "      <td>...</td>\n",
       "      <td>...</td>\n",
       "      <td>...</td>\n",
       "      <td>...</td>\n",
       "      <td>...</td>\n",
       "      <td>...</td>\n",
       "    </tr>\n",
       "    <tr>\n",
       "      <th>19234</th>\n",
       "      <td>3</td>\n",
       "      <td>2</td>\n",
       "      <td>5</td>\n",
       "      <td>play_type_unknown</td>\n",
       "      <td>1 RB, 1 TE, 3 WR</td>\n",
       "      <td>2 DL, 4 LB, 5 DB</td>\n",
       "      <td>5</td>\n",
       "    </tr>\n",
       "    <tr>\n",
       "      <th>19235</th>\n",
       "      <td>4</td>\n",
       "      <td>3</td>\n",
       "      <td>7</td>\n",
       "      <td>play_type_unknown</td>\n",
       "      <td>1 RB, 1 TE, 3 WR</td>\n",
       "      <td>2 DL, 4 LB, 5 DB</td>\n",
       "      <td>5</td>\n",
       "    </tr>\n",
       "    <tr>\n",
       "      <th>19236</th>\n",
       "      <td>1</td>\n",
       "      <td>3</td>\n",
       "      <td>4</td>\n",
       "      <td>play_type_unknown</td>\n",
       "      <td>1 RB, 1 TE, 3 WR</td>\n",
       "      <td>1 DL, 5 LB, 5 DB</td>\n",
       "      <td>-10</td>\n",
       "    </tr>\n",
       "    <tr>\n",
       "      <th>19237</th>\n",
       "      <td>2</td>\n",
       "      <td>3</td>\n",
       "      <td>1</td>\n",
       "      <td>play_type_unknown</td>\n",
       "      <td>1 RB, 1 TE, 3 WR</td>\n",
       "      <td>2 DL, 3 LB, 6 DB</td>\n",
       "      <td>15</td>\n",
       "    </tr>\n",
       "    <tr>\n",
       "      <th>19238</th>\n",
       "      <td>3</td>\n",
       "      <td>1</td>\n",
       "      <td>10</td>\n",
       "      <td>play_type_unknown</td>\n",
       "      <td>1 RB, 1 TE, 3 WR</td>\n",
       "      <td>4 DL, 1 LB, 6 DB</td>\n",
       "      <td>9</td>\n",
       "    </tr>\n",
       "  </tbody>\n",
       "</table>\n",
       "<p>18405 rows × 7 columns</p>\n",
       "</div>"
      ],
      "text/plain": [
       "       quarter  down  yardsToGo           playType        personnelO  \\\n",
       "0            1     1         15     play_type_pass  2 RB, 1 TE, 2 WR   \n",
       "1            1     1         10     play_type_pass  1 RB, 1 TE, 3 WR   \n",
       "2            1     2         10     play_type_pass  2 RB, 1 TE, 2 WR   \n",
       "3            1     3         10     play_type_pass  1 RB, 1 TE, 3 WR   \n",
       "5            1     2          8     play_type_pass  1 RB, 1 TE, 3 WR   \n",
       "...        ...   ...        ...                ...               ...   \n",
       "19234        3     2          5  play_type_unknown  1 RB, 1 TE, 3 WR   \n",
       "19235        4     3          7  play_type_unknown  1 RB, 1 TE, 3 WR   \n",
       "19236        1     3          4  play_type_unknown  1 RB, 1 TE, 3 WR   \n",
       "19237        2     3          1  play_type_unknown  1 RB, 1 TE, 3 WR   \n",
       "19238        3     1         10  play_type_unknown  1 RB, 1 TE, 3 WR   \n",
       "\n",
       "             personnelD  playResult  \n",
       "0      4 DL, 2 LB, 5 DB          10  \n",
       "1      4 DL, 2 LB, 5 DB           0  \n",
       "2      4 DL, 2 LB, 5 DB           0  \n",
       "3      4 DL, 1 LB, 6 DB          33  \n",
       "5      3 DL, 3 LB, 5 DB           4  \n",
       "...                 ...         ...  \n",
       "19234  2 DL, 4 LB, 5 DB           5  \n",
       "19235  2 DL, 4 LB, 5 DB           5  \n",
       "19236  1 DL, 5 LB, 5 DB         -10  \n",
       "19237  2 DL, 3 LB, 6 DB          15  \n",
       "19238  4 DL, 1 LB, 6 DB           9  \n",
       "\n",
       "[18405 rows x 7 columns]"
      ]
     },
     "execution_count": 10,
     "metadata": {},
     "output_type": "execute_result"
    }
   ],
   "source": [
    "new_df"
   ]
  },
  {
   "cell_type": "code",
   "execution_count": 11,
   "metadata": {
    "colab": {
     "base_uri": "https://localhost:8080/"
    },
    "id": "t9b-IRMc4r9A",
    "outputId": "fd098a5a-764b-4f12-aed3-b4c64e481ee7"
   },
   "outputs": [],
   "source": [
    "### yards at the end of the play\n",
    "new_df['runs']=new_df['playResult']-new_df['yardsToGo']"
   ]
  },
  {
   "cell_type": "code",
   "execution_count": 12,
   "metadata": {
    "colab": {
     "base_uri": "https://localhost:8080/"
    },
    "id": "38pJ5vpZ5U1p",
    "outputId": "6fefcabc-e7e3-4a45-af11-816e75724ef1"
   },
   "outputs": [],
   "source": [
    "### if the team got the first down =1, else 0\n",
    "new_df.loc[new_df['runs'] > 0, 'Categorical'] = 1\n",
    "new_df.loc[new_df['runs'] <=0, 'Categorical'] = 0"
   ]
  },
  {
   "cell_type": "code",
   "execution_count": 13,
   "metadata": {
    "colab": {
     "base_uri": "https://localhost:8080/",
     "height": 206
    },
    "id": "TmmpHYTc5b-7",
    "outputId": "7485aa86-b6ef-40b9-f149-8aa989d555c9"
   },
   "outputs": [
    {
     "data": {
      "text/html": [
       "<div>\n",
       "<style scoped>\n",
       "    .dataframe tbody tr th:only-of-type {\n",
       "        vertical-align: middle;\n",
       "    }\n",
       "\n",
       "    .dataframe tbody tr th {\n",
       "        vertical-align: top;\n",
       "    }\n",
       "\n",
       "    .dataframe thead th {\n",
       "        text-align: right;\n",
       "    }\n",
       "</style>\n",
       "<table border=\"1\" class=\"dataframe\">\n",
       "  <thead>\n",
       "    <tr style=\"text-align: right;\">\n",
       "      <th></th>\n",
       "      <th>quarter</th>\n",
       "      <th>down</th>\n",
       "      <th>yardsToGo</th>\n",
       "      <th>playType</th>\n",
       "      <th>personnelO</th>\n",
       "      <th>personnelD</th>\n",
       "      <th>playResult</th>\n",
       "      <th>runs</th>\n",
       "      <th>Categorical</th>\n",
       "    </tr>\n",
       "  </thead>\n",
       "  <tbody>\n",
       "    <tr>\n",
       "      <th>0</th>\n",
       "      <td>1</td>\n",
       "      <td>1</td>\n",
       "      <td>15</td>\n",
       "      <td>play_type_pass</td>\n",
       "      <td>2 RB, 1 TE, 2 WR</td>\n",
       "      <td>4 DL, 2 LB, 5 DB</td>\n",
       "      <td>10</td>\n",
       "      <td>-5</td>\n",
       "      <td>0.0</td>\n",
       "    </tr>\n",
       "    <tr>\n",
       "      <th>1</th>\n",
       "      <td>1</td>\n",
       "      <td>1</td>\n",
       "      <td>10</td>\n",
       "      <td>play_type_pass</td>\n",
       "      <td>1 RB, 1 TE, 3 WR</td>\n",
       "      <td>4 DL, 2 LB, 5 DB</td>\n",
       "      <td>0</td>\n",
       "      <td>-10</td>\n",
       "      <td>0.0</td>\n",
       "    </tr>\n",
       "    <tr>\n",
       "      <th>2</th>\n",
       "      <td>1</td>\n",
       "      <td>2</td>\n",
       "      <td>10</td>\n",
       "      <td>play_type_pass</td>\n",
       "      <td>2 RB, 1 TE, 2 WR</td>\n",
       "      <td>4 DL, 2 LB, 5 DB</td>\n",
       "      <td>0</td>\n",
       "      <td>-10</td>\n",
       "      <td>0.0</td>\n",
       "    </tr>\n",
       "    <tr>\n",
       "      <th>3</th>\n",
       "      <td>1</td>\n",
       "      <td>3</td>\n",
       "      <td>10</td>\n",
       "      <td>play_type_pass</td>\n",
       "      <td>1 RB, 1 TE, 3 WR</td>\n",
       "      <td>4 DL, 1 LB, 6 DB</td>\n",
       "      <td>33</td>\n",
       "      <td>23</td>\n",
       "      <td>1.0</td>\n",
       "    </tr>\n",
       "    <tr>\n",
       "      <th>5</th>\n",
       "      <td>1</td>\n",
       "      <td>2</td>\n",
       "      <td>8</td>\n",
       "      <td>play_type_pass</td>\n",
       "      <td>1 RB, 1 TE, 3 WR</td>\n",
       "      <td>3 DL, 3 LB, 5 DB</td>\n",
       "      <td>4</td>\n",
       "      <td>-4</td>\n",
       "      <td>0.0</td>\n",
       "    </tr>\n",
       "  </tbody>\n",
       "</table>\n",
       "</div>"
      ],
      "text/plain": [
       "   quarter  down  yardsToGo        playType        personnelO  \\\n",
       "0        1     1         15  play_type_pass  2 RB, 1 TE, 2 WR   \n",
       "1        1     1         10  play_type_pass  1 RB, 1 TE, 3 WR   \n",
       "2        1     2         10  play_type_pass  2 RB, 1 TE, 2 WR   \n",
       "3        1     3         10  play_type_pass  1 RB, 1 TE, 3 WR   \n",
       "5        1     2          8  play_type_pass  1 RB, 1 TE, 3 WR   \n",
       "\n",
       "         personnelD  playResult  runs  Categorical  \n",
       "0  4 DL, 2 LB, 5 DB          10    -5          0.0  \n",
       "1  4 DL, 2 LB, 5 DB           0   -10          0.0  \n",
       "2  4 DL, 2 LB, 5 DB           0   -10          0.0  \n",
       "3  4 DL, 1 LB, 6 DB          33    23          1.0  \n",
       "5  3 DL, 3 LB, 5 DB           4    -4          0.0  "
      ]
     },
     "execution_count": 13,
     "metadata": {},
     "output_type": "execute_result"
    }
   ],
   "source": [
    "new_df.head()"
   ]
  },
  {
   "cell_type": "code",
   "execution_count": 14,
   "metadata": {},
   "outputs": [
    {
     "data": {
      "text/plain": [
       "array(['play_type_pass', 'play_type_sack', 'play_type_unknown'],\n",
       "      dtype=object)"
      ]
     },
     "execution_count": 14,
     "metadata": {},
     "output_type": "execute_result"
    }
   ],
   "source": [
    "new_df['playType'].unique()"
   ]
  },
  {
   "cell_type": "code",
   "execution_count": 15,
   "metadata": {
    "colab": {
     "base_uri": "https://localhost:8080/"
    },
    "id": "385rggaI5du6",
    "outputId": "ddb49601-48e4-49b9-c65a-8df61e67c4c2"
   },
   "outputs": [],
   "source": [
    "new_df[['play_pass','play_sack']] = pd.get_dummies(new_df['playType'])[['play_type_pass','play_type_sack']]"
   ]
  },
  {
   "cell_type": "code",
   "execution_count": 16,
   "metadata": {},
   "outputs": [
    {
     "data": {
      "text/html": [
       "<div>\n",
       "<style scoped>\n",
       "    .dataframe tbody tr th:only-of-type {\n",
       "        vertical-align: middle;\n",
       "    }\n",
       "\n",
       "    .dataframe tbody tr th {\n",
       "        vertical-align: top;\n",
       "    }\n",
       "\n",
       "    .dataframe thead th {\n",
       "        text-align: right;\n",
       "    }\n",
       "</style>\n",
       "<table border=\"1\" class=\"dataframe\">\n",
       "  <thead>\n",
       "    <tr style=\"text-align: right;\">\n",
       "      <th></th>\n",
       "      <th>quarter</th>\n",
       "      <th>down</th>\n",
       "      <th>yardsToGo</th>\n",
       "      <th>playType</th>\n",
       "      <th>personnelO</th>\n",
       "      <th>personnelD</th>\n",
       "      <th>playResult</th>\n",
       "      <th>runs</th>\n",
       "      <th>Categorical</th>\n",
       "      <th>play_pass</th>\n",
       "      <th>play_sack</th>\n",
       "    </tr>\n",
       "  </thead>\n",
       "  <tbody>\n",
       "    <tr>\n",
       "      <th>0</th>\n",
       "      <td>1</td>\n",
       "      <td>1</td>\n",
       "      <td>15</td>\n",
       "      <td>play_type_pass</td>\n",
       "      <td>2 RB, 1 TE, 2 WR</td>\n",
       "      <td>4 DL, 2 LB, 5 DB</td>\n",
       "      <td>10</td>\n",
       "      <td>-5</td>\n",
       "      <td>0.0</td>\n",
       "      <td>1</td>\n",
       "      <td>0</td>\n",
       "    </tr>\n",
       "    <tr>\n",
       "      <th>1</th>\n",
       "      <td>1</td>\n",
       "      <td>1</td>\n",
       "      <td>10</td>\n",
       "      <td>play_type_pass</td>\n",
       "      <td>1 RB, 1 TE, 3 WR</td>\n",
       "      <td>4 DL, 2 LB, 5 DB</td>\n",
       "      <td>0</td>\n",
       "      <td>-10</td>\n",
       "      <td>0.0</td>\n",
       "      <td>1</td>\n",
       "      <td>0</td>\n",
       "    </tr>\n",
       "    <tr>\n",
       "      <th>2</th>\n",
       "      <td>1</td>\n",
       "      <td>2</td>\n",
       "      <td>10</td>\n",
       "      <td>play_type_pass</td>\n",
       "      <td>2 RB, 1 TE, 2 WR</td>\n",
       "      <td>4 DL, 2 LB, 5 DB</td>\n",
       "      <td>0</td>\n",
       "      <td>-10</td>\n",
       "      <td>0.0</td>\n",
       "      <td>1</td>\n",
       "      <td>0</td>\n",
       "    </tr>\n",
       "    <tr>\n",
       "      <th>3</th>\n",
       "      <td>1</td>\n",
       "      <td>3</td>\n",
       "      <td>10</td>\n",
       "      <td>play_type_pass</td>\n",
       "      <td>1 RB, 1 TE, 3 WR</td>\n",
       "      <td>4 DL, 1 LB, 6 DB</td>\n",
       "      <td>33</td>\n",
       "      <td>23</td>\n",
       "      <td>1.0</td>\n",
       "      <td>1</td>\n",
       "      <td>0</td>\n",
       "    </tr>\n",
       "    <tr>\n",
       "      <th>5</th>\n",
       "      <td>1</td>\n",
       "      <td>2</td>\n",
       "      <td>8</td>\n",
       "      <td>play_type_pass</td>\n",
       "      <td>1 RB, 1 TE, 3 WR</td>\n",
       "      <td>3 DL, 3 LB, 5 DB</td>\n",
       "      <td>4</td>\n",
       "      <td>-4</td>\n",
       "      <td>0.0</td>\n",
       "      <td>1</td>\n",
       "      <td>0</td>\n",
       "    </tr>\n",
       "  </tbody>\n",
       "</table>\n",
       "</div>"
      ],
      "text/plain": [
       "   quarter  down  yardsToGo        playType        personnelO  \\\n",
       "0        1     1         15  play_type_pass  2 RB, 1 TE, 2 WR   \n",
       "1        1     1         10  play_type_pass  1 RB, 1 TE, 3 WR   \n",
       "2        1     2         10  play_type_pass  2 RB, 1 TE, 2 WR   \n",
       "3        1     3         10  play_type_pass  1 RB, 1 TE, 3 WR   \n",
       "5        1     2          8  play_type_pass  1 RB, 1 TE, 3 WR   \n",
       "\n",
       "         personnelD  playResult  runs  Categorical  play_pass  play_sack  \n",
       "0  4 DL, 2 LB, 5 DB          10    -5          0.0          1          0  \n",
       "1  4 DL, 2 LB, 5 DB           0   -10          0.0          1          0  \n",
       "2  4 DL, 2 LB, 5 DB           0   -10          0.0          1          0  \n",
       "3  4 DL, 1 LB, 6 DB          33    23          1.0          1          0  \n",
       "5  3 DL, 3 LB, 5 DB           4    -4          0.0          1          0  "
      ]
     },
     "execution_count": 16,
     "metadata": {},
     "output_type": "execute_result"
    }
   ],
   "source": [
    "new_df.head()"
   ]
  },
  {
   "cell_type": "code",
   "execution_count": 17,
   "metadata": {},
   "outputs": [
    {
     "data": {
      "image/png": "[encoded data removed]",
      "text/plain": [
       "<Figure size 432x288 with 1 Axes>"
      ]
     },
     "metadata": {
      "needs_background": "light"
     },
     "output_type": "display_data"
    }
   ],
   "source": [
    "### if the team needs to run 10 yards \n",
    "### if the team needs to run less than 10\n",
    "### if the team needs to run more than 10\n",
    "\n",
    "sns.histplot(new_df['yardsToGo'])\n",
    "new_df.loc[new_df['yardsToGo'] == 10, 'yards'] = 'ten_yards_togo'\n",
    "new_df.loc[new_df['runs'] < 10, 'yards'] = 'less_than_ten_togo'\n",
    "new_df.loc[new_df['runs'] > 10, 'yards'] = 'more_than_ten_togo'"
   ]
  },
  {
   "cell_type": "code",
   "execution_count": 18,
   "metadata": {},
   "outputs": [],
   "source": [
    "new_df[['10_yards','less_than_10']] = pd.get_dummies(new_df['yards'])[['ten_yards_togo','less_than_ten_togo']]"
   ]
  },
  {
   "cell_type": "code",
   "execution_count": 19,
   "metadata": {},
   "outputs": [
    {
     "data": {
      "text/html": [
       "<div>\n",
       "<style scoped>\n",
       "    .dataframe tbody tr th:only-of-type {\n",
       "        vertical-align: middle;\n",
       "    }\n",
       "\n",
       "    .dataframe tbody tr th {\n",
       "        vertical-align: top;\n",
       "    }\n",
       "\n",
       "    .dataframe thead th {\n",
       "        text-align: right;\n",
       "    }\n",
       "</style>\n",
       "<table border=\"1\" class=\"dataframe\">\n",
       "  <thead>\n",
       "    <tr style=\"text-align: right;\">\n",
       "      <th></th>\n",
       "      <th>quarter</th>\n",
       "      <th>down</th>\n",
       "      <th>yardsToGo</th>\n",
       "      <th>playType</th>\n",
       "      <th>personnelO</th>\n",
       "      <th>personnelD</th>\n",
       "      <th>playResult</th>\n",
       "      <th>runs</th>\n",
       "      <th>Categorical</th>\n",
       "      <th>play_pass</th>\n",
       "      <th>play_sack</th>\n",
       "      <th>yards</th>\n",
       "      <th>10_yards</th>\n",
       "      <th>less_than_10</th>\n",
       "    </tr>\n",
       "  </thead>\n",
       "  <tbody>\n",
       "    <tr>\n",
       "      <th>0</th>\n",
       "      <td>1</td>\n",
       "      <td>1</td>\n",
       "      <td>15</td>\n",
       "      <td>play_type_pass</td>\n",
       "      <td>2 RB, 1 TE, 2 WR</td>\n",
       "      <td>4 DL, 2 LB, 5 DB</td>\n",
       "      <td>10</td>\n",
       "      <td>-5</td>\n",
       "      <td>0.0</td>\n",
       "      <td>1</td>\n",
       "      <td>0</td>\n",
       "      <td>less_than_ten_togo</td>\n",
       "      <td>0</td>\n",
       "      <td>1</td>\n",
       "    </tr>\n",
       "    <tr>\n",
       "      <th>1</th>\n",
       "      <td>1</td>\n",
       "      <td>1</td>\n",
       "      <td>10</td>\n",
       "      <td>play_type_pass</td>\n",
       "      <td>1 RB, 1 TE, 3 WR</td>\n",
       "      <td>4 DL, 2 LB, 5 DB</td>\n",
       "      <td>0</td>\n",
       "      <td>-10</td>\n",
       "      <td>0.0</td>\n",
       "      <td>1</td>\n",
       "      <td>0</td>\n",
       "      <td>less_than_ten_togo</td>\n",
       "      <td>0</td>\n",
       "      <td>1</td>\n",
       "    </tr>\n",
       "    <tr>\n",
       "      <th>2</th>\n",
       "      <td>1</td>\n",
       "      <td>2</td>\n",
       "      <td>10</td>\n",
       "      <td>play_type_pass</td>\n",
       "      <td>2 RB, 1 TE, 2 WR</td>\n",
       "      <td>4 DL, 2 LB, 5 DB</td>\n",
       "      <td>0</td>\n",
       "      <td>-10</td>\n",
       "      <td>0.0</td>\n",
       "      <td>1</td>\n",
       "      <td>0</td>\n",
       "      <td>less_than_ten_togo</td>\n",
       "      <td>0</td>\n",
       "      <td>1</td>\n",
       "    </tr>\n",
       "    <tr>\n",
       "      <th>3</th>\n",
       "      <td>1</td>\n",
       "      <td>3</td>\n",
       "      <td>10</td>\n",
       "      <td>play_type_pass</td>\n",
       "      <td>1 RB, 1 TE, 3 WR</td>\n",
       "      <td>4 DL, 1 LB, 6 DB</td>\n",
       "      <td>33</td>\n",
       "      <td>23</td>\n",
       "      <td>1.0</td>\n",
       "      <td>1</td>\n",
       "      <td>0</td>\n",
       "      <td>more_than_ten_togo</td>\n",
       "      <td>0</td>\n",
       "      <td>0</td>\n",
       "    </tr>\n",
       "    <tr>\n",
       "      <th>5</th>\n",
       "      <td>1</td>\n",
       "      <td>2</td>\n",
       "      <td>8</td>\n",
       "      <td>play_type_pass</td>\n",
       "      <td>1 RB, 1 TE, 3 WR</td>\n",
       "      <td>3 DL, 3 LB, 5 DB</td>\n",
       "      <td>4</td>\n",
       "      <td>-4</td>\n",
       "      <td>0.0</td>\n",
       "      <td>1</td>\n",
       "      <td>0</td>\n",
       "      <td>less_than_ten_togo</td>\n",
       "      <td>0</td>\n",
       "      <td>1</td>\n",
       "    </tr>\n",
       "  </tbody>\n",
       "</table>\n",
       "</div>"
      ],
      "text/plain": [
       "   quarter  down  yardsToGo        playType        personnelO  \\\n",
       "0        1     1         15  play_type_pass  2 RB, 1 TE, 2 WR   \n",
       "1        1     1         10  play_type_pass  1 RB, 1 TE, 3 WR   \n",
       "2        1     2         10  play_type_pass  2 RB, 1 TE, 2 WR   \n",
       "3        1     3         10  play_type_pass  1 RB, 1 TE, 3 WR   \n",
       "5        1     2          8  play_type_pass  1 RB, 1 TE, 3 WR   \n",
       "\n",
       "         personnelD  playResult  runs  Categorical  play_pass  play_sack  \\\n",
       "0  4 DL, 2 LB, 5 DB          10    -5          0.0          1          0   \n",
       "1  4 DL, 2 LB, 5 DB           0   -10          0.0          1          0   \n",
       "2  4 DL, 2 LB, 5 DB           0   -10          0.0          1          0   \n",
       "3  4 DL, 1 LB, 6 DB          33    23          1.0          1          0   \n",
       "5  3 DL, 3 LB, 5 DB           4    -4          0.0          1          0   \n",
       "\n",
       "                yards  10_yards  less_than_10  \n",
       "0  less_than_ten_togo         0             1  \n",
       "1  less_than_ten_togo         0             1  \n",
       "2  less_than_ten_togo         0             1  \n",
       "3  more_than_ten_togo         0             0  \n",
       "5  less_than_ten_togo         0             1  "
      ]
     },
     "execution_count": 19,
     "metadata": {},
     "output_type": "execute_result"
    }
   ],
   "source": [
    "new_df.head()"
   ]
  },
  {
   "cell_type": "code",
   "execution_count": 20,
   "metadata": {
    "colab": {
     "base_uri": "https://localhost:8080/"
    },
    "id": "UJUXVh5F5lOQ",
    "outputId": "fa97e300-8211-4702-cd17-2db1984c55c3"
   },
   "outputs": [
    {
     "data": {
      "text/plain": [
       "array(['2 RB, 1 TE, 2 WR', '1 RB, 1 TE, 3 WR', '1 RB, 2 TE, 2 WR',\n",
       "       '1 RB, 3 TE, 1 WR', '2 RB, 0 TE, 3 WR', '2 RB, 2 TE, 1 WR',\n",
       "       '0 RB, 1 TE, 4 WR', '6 OL, 1 RB, 1 TE, 2 WR', '1 RB, 0 TE, 4 WR',\n",
       "       '2 QB, 1 RB, 1 TE, 2 WR'], dtype=object)"
      ]
     },
     "execution_count": 20,
     "metadata": {},
     "output_type": "execute_result"
    }
   ],
   "source": [
    "new_df.personnelO.unique()\n"
   ]
  },
  {
   "cell_type": "code",
   "execution_count": 21,
   "metadata": {},
   "outputs": [
    {
     "data": {
      "text/plain": [
       "array(['4 DL, 2 LB, 5 DB', '4 DL, 1 LB, 6 DB', '3 DL, 3 LB, 5 DB',\n",
       "       '4 DL, 3 LB, 4 DB', '3 DL, 4 LB, 4 DB', '2 DL, 3 LB, 6 DB',\n",
       "       '2 DL, 4 LB, 5 DB', '3 DL, 2 LB, 6 DB', '1 DL, 5 LB, 5 DB',\n",
       "       '1 DL, 4 LB, 6 DB'], dtype=object)"
      ]
     },
     "execution_count": 21,
     "metadata": {},
     "output_type": "execute_result"
    }
   ],
   "source": [
    "new_df.personnelD.unique()"
   ]
  },
  {
   "cell_type": "code",
   "execution_count": 22,
   "metadata": {},
   "outputs": [
    {
     "data": {
      "text/plain": [
       "1 RB, 1 TE, 3 WR          13378\n",
       "1 RB, 2 TE, 2 WR           2698\n",
       "2 RB, 1 TE, 2 WR           1050\n",
       "1 RB, 3 TE, 1 WR            392\n",
       "1 RB, 0 TE, 4 WR            265\n",
       "0 RB, 1 TE, 4 WR            162\n",
       "2 RB, 2 TE, 1 WR            149\n",
       "2 RB, 0 TE, 3 WR            147\n",
       "6 OL, 1 RB, 1 TE, 2 WR      108\n",
       "2 QB, 1 RB, 1 TE, 2 WR       56\n",
       "Name: personnelO, dtype: int64"
      ]
     },
     "execution_count": 22,
     "metadata": {},
     "output_type": "execute_result"
    }
   ],
   "source": [
    "new_df.personnelO.value_counts()"
   ]
  },
  {
   "cell_type": "code",
   "execution_count": 23,
   "metadata": {},
   "outputs": [
    {
     "data": {
      "text/plain": [
       "4 DL, 2 LB, 5 DB    6581\n",
       "3 DL, 3 LB, 5 DB    3084\n",
       "4 DL, 3 LB, 4 DB    2329\n",
       "2 DL, 4 LB, 5 DB    2094\n",
       "4 DL, 1 LB, 6 DB    1081\n",
       "3 DL, 2 LB, 6 DB    1037\n",
       "2 DL, 3 LB, 6 DB     909\n",
       "3 DL, 4 LB, 4 DB     716\n",
       "1 DL, 4 LB, 6 DB     309\n",
       "1 DL, 5 LB, 5 DB     265\n",
       "Name: personnelD, dtype: int64"
      ]
     },
     "execution_count": 23,
     "metadata": {},
     "output_type": "execute_result"
    }
   ],
   "source": [
    "new_df.personnelD.value_counts()\n"
   ]
  },
  {
   "cell_type": "code",
   "execution_count": 24,
   "metadata": {
    "colab": {
     "base_uri": "https://localhost:8080/"
    },
    "id": "v9rdNBHA5o-3",
    "outputId": "47bf5c83-fbd0-478f-eec5-ce259fcf624d"
   },
   "outputs": [],
   "source": [
    "new_df[['2 RB, 1 TE, 2 WR', '1 RB, 1 TE, 3 WR', '1 RB, 2 TE, 2 WR',\n",
    "       '1 RB, 3 TE, 1 WR', '2 RB, 0 TE, 3 WR', '2 RB, 2 TE, 1 WR',\n",
    "       '0 RB, 1 TE, 4 WR', '6 OL, 1 RB, 1 TE, 2 WR', '1 RB, 0 TE, 4 WR']]= pd.get_dummies(new_df['personnelO'])[['2 RB, 1 TE, 2 WR', '1 RB, 1 TE, 3 WR', '1 RB, 2 TE, 2 WR',\n",
    "       '1 RB, 3 TE, 1 WR', '2 RB, 0 TE, 3 WR', '2 RB, 2 TE, 1 WR',\n",
    "       '0 RB, 1 TE, 4 WR', '6 OL, 1 RB, 1 TE, 2 WR', '1 RB, 0 TE, 4 WR']]"
   ]
  },
  {
   "cell_type": "code",
   "execution_count": 25,
   "metadata": {
    "id": "aVcYt7jq6dG9"
   },
   "outputs": [],
   "source": [
    "new_df[['4 DL, 2 LB, 5 DB', '4 DL, 1 LB, 6 DB', '3 DL, 3 LB, 5 DB',\n",
    "       '4 DL, 3 LB, 4 DB', '3 DL, 4 LB, 4 DB', '2 DL, 3 LB, 6 DB',\n",
    "       '2 DL, 4 LB, 5 DB', '3 DL, 2 LB, 6 DB', '1 DL, 5 LB, 5 DB']]= pd.get_dummies(new_df['personnelD'])[['4 DL, 2 LB, 5 DB', '4 DL, 1 LB, 6 DB', '3 DL, 3 LB, 5 DB',\n",
    "       '4 DL, 3 LB, 4 DB', '3 DL, 4 LB, 4 DB', '2 DL, 3 LB, 6 DB',\n",
    "       '2 DL, 4 LB, 5 DB', '3 DL, 2 LB, 6 DB', '1 DL, 5 LB, 5 DB']]"
   ]
  },
  {
   "cell_type": "code",
   "execution_count": 26,
   "metadata": {},
   "outputs": [
    {
     "data": {
      "text/html": [
       "<div>\n",
       "<style scoped>\n",
       "    .dataframe tbody tr th:only-of-type {\n",
       "        vertical-align: middle;\n",
       "    }\n",
       "\n",
       "    .dataframe tbody tr th {\n",
       "        vertical-align: top;\n",
       "    }\n",
       "\n",
       "    .dataframe thead th {\n",
       "        text-align: right;\n",
       "    }\n",
       "</style>\n",
       "<table border=\"1\" class=\"dataframe\">\n",
       "  <thead>\n",
       "    <tr style=\"text-align: right;\">\n",
       "      <th></th>\n",
       "      <th>quarter</th>\n",
       "      <th>down</th>\n",
       "      <th>yardsToGo</th>\n",
       "      <th>playType</th>\n",
       "      <th>personnelO</th>\n",
       "      <th>personnelD</th>\n",
       "      <th>playResult</th>\n",
       "      <th>runs</th>\n",
       "      <th>Categorical</th>\n",
       "      <th>play_pass</th>\n",
       "      <th>...</th>\n",
       "      <th>1 RB, 0 TE, 4 WR</th>\n",
       "      <th>4 DL, 2 LB, 5 DB</th>\n",
       "      <th>4 DL, 1 LB, 6 DB</th>\n",
       "      <th>3 DL, 3 LB, 5 DB</th>\n",
       "      <th>4 DL, 3 LB, 4 DB</th>\n",
       "      <th>3 DL, 4 LB, 4 DB</th>\n",
       "      <th>2 DL, 3 LB, 6 DB</th>\n",
       "      <th>2 DL, 4 LB, 5 DB</th>\n",
       "      <th>3 DL, 2 LB, 6 DB</th>\n",
       "      <th>1 DL, 5 LB, 5 DB</th>\n",
       "    </tr>\n",
       "  </thead>\n",
       "  <tbody>\n",
       "    <tr>\n",
       "      <th>0</th>\n",
       "      <td>1</td>\n",
       "      <td>1</td>\n",
       "      <td>15</td>\n",
       "      <td>play_type_pass</td>\n",
       "      <td>2 RB, 1 TE, 2 WR</td>\n",
       "      <td>4 DL, 2 LB, 5 DB</td>\n",
       "      <td>10</td>\n",
       "      <td>-5</td>\n",
       "      <td>0.0</td>\n",
       "      <td>1</td>\n",
       "      <td>...</td>\n",
       "      <td>0</td>\n",
       "      <td>1</td>\n",
       "      <td>0</td>\n",
       "      <td>0</td>\n",
       "      <td>0</td>\n",
       "      <td>0</td>\n",
       "      <td>0</td>\n",
       "      <td>0</td>\n",
       "      <td>0</td>\n",
       "      <td>0</td>\n",
       "    </tr>\n",
       "    <tr>\n",
       "      <th>1</th>\n",
       "      <td>1</td>\n",
       "      <td>1</td>\n",
       "      <td>10</td>\n",
       "      <td>play_type_pass</td>\n",
       "      <td>1 RB, 1 TE, 3 WR</td>\n",
       "      <td>4 DL, 2 LB, 5 DB</td>\n",
       "      <td>0</td>\n",
       "      <td>-10</td>\n",
       "      <td>0.0</td>\n",
       "      <td>1</td>\n",
       "      <td>...</td>\n",
       "      <td>0</td>\n",
       "      <td>1</td>\n",
       "      <td>0</td>\n",
       "      <td>0</td>\n",
       "      <td>0</td>\n",
       "      <td>0</td>\n",
       "      <td>0</td>\n",
       "      <td>0</td>\n",
       "      <td>0</td>\n",
       "      <td>0</td>\n",
       "    </tr>\n",
       "    <tr>\n",
       "      <th>2</th>\n",
       "      <td>1</td>\n",
       "      <td>2</td>\n",
       "      <td>10</td>\n",
       "      <td>play_type_pass</td>\n",
       "      <td>2 RB, 1 TE, 2 WR</td>\n",
       "      <td>4 DL, 2 LB, 5 DB</td>\n",
       "      <td>0</td>\n",
       "      <td>-10</td>\n",
       "      <td>0.0</td>\n",
       "      <td>1</td>\n",
       "      <td>...</td>\n",
       "      <td>0</td>\n",
       "      <td>1</td>\n",
       "      <td>0</td>\n",
       "      <td>0</td>\n",
       "      <td>0</td>\n",
       "      <td>0</td>\n",
       "      <td>0</td>\n",
       "      <td>0</td>\n",
       "      <td>0</td>\n",
       "      <td>0</td>\n",
       "    </tr>\n",
       "    <tr>\n",
       "      <th>3</th>\n",
       "      <td>1</td>\n",
       "      <td>3</td>\n",
       "      <td>10</td>\n",
       "      <td>play_type_pass</td>\n",
       "      <td>1 RB, 1 TE, 3 WR</td>\n",
       "      <td>4 DL, 1 LB, 6 DB</td>\n",
       "      <td>33</td>\n",
       "      <td>23</td>\n",
       "      <td>1.0</td>\n",
       "      <td>1</td>\n",
       "      <td>...</td>\n",
       "      <td>0</td>\n",
       "      <td>0</td>\n",
       "      <td>1</td>\n",
       "      <td>0</td>\n",
       "      <td>0</td>\n",
       "      <td>0</td>\n",
       "      <td>0</td>\n",
       "      <td>0</td>\n",
       "      <td>0</td>\n",
       "      <td>0</td>\n",
       "    </tr>\n",
       "    <tr>\n",
       "      <th>5</th>\n",
       "      <td>1</td>\n",
       "      <td>2</td>\n",
       "      <td>8</td>\n",
       "      <td>play_type_pass</td>\n",
       "      <td>1 RB, 1 TE, 3 WR</td>\n",
       "      <td>3 DL, 3 LB, 5 DB</td>\n",
       "      <td>4</td>\n",
       "      <td>-4</td>\n",
       "      <td>0.0</td>\n",
       "      <td>1</td>\n",
       "      <td>...</td>\n",
       "      <td>0</td>\n",
       "      <td>0</td>\n",
       "      <td>0</td>\n",
       "      <td>1</td>\n",
       "      <td>0</td>\n",
       "      <td>0</td>\n",
       "      <td>0</td>\n",
       "      <td>0</td>\n",
       "      <td>0</td>\n",
       "      <td>0</td>\n",
       "    </tr>\n",
       "    <tr>\n",
       "      <th>...</th>\n",
       "      <td>...</td>\n",
       "      <td>...</td>\n",
       "      <td>...</td>\n",
       "      <td>...</td>\n",
       "      <td>...</td>\n",
       "      <td>...</td>\n",
       "      <td>...</td>\n",
       "      <td>...</td>\n",
       "      <td>...</td>\n",
       "      <td>...</td>\n",
       "      <td>...</td>\n",
       "      <td>...</td>\n",
       "      <td>...</td>\n",
       "      <td>...</td>\n",
       "      <td>...</td>\n",
       "      <td>...</td>\n",
       "      <td>...</td>\n",
       "      <td>...</td>\n",
       "      <td>...</td>\n",
       "      <td>...</td>\n",
       "      <td>...</td>\n",
       "    </tr>\n",
       "    <tr>\n",
       "      <th>19234</th>\n",
       "      <td>3</td>\n",
       "      <td>2</td>\n",
       "      <td>5</td>\n",
       "      <td>play_type_unknown</td>\n",
       "      <td>1 RB, 1 TE, 3 WR</td>\n",
       "      <td>2 DL, 4 LB, 5 DB</td>\n",
       "      <td>5</td>\n",
       "      <td>0</td>\n",
       "      <td>0.0</td>\n",
       "      <td>0</td>\n",
       "      <td>...</td>\n",
       "      <td>0</td>\n",
       "      <td>0</td>\n",
       "      <td>0</td>\n",
       "      <td>0</td>\n",
       "      <td>0</td>\n",
       "      <td>0</td>\n",
       "      <td>0</td>\n",
       "      <td>1</td>\n",
       "      <td>0</td>\n",
       "      <td>0</td>\n",
       "    </tr>\n",
       "    <tr>\n",
       "      <th>19235</th>\n",
       "      <td>4</td>\n",
       "      <td>3</td>\n",
       "      <td>7</td>\n",
       "      <td>play_type_unknown</td>\n",
       "      <td>1 RB, 1 TE, 3 WR</td>\n",
       "      <td>2 DL, 4 LB, 5 DB</td>\n",
       "      <td>5</td>\n",
       "      <td>-2</td>\n",
       "      <td>0.0</td>\n",
       "      <td>0</td>\n",
       "      <td>...</td>\n",
       "      <td>0</td>\n",
       "      <td>0</td>\n",
       "      <td>0</td>\n",
       "      <td>0</td>\n",
       "      <td>0</td>\n",
       "      <td>0</td>\n",
       "      <td>0</td>\n",
       "      <td>1</td>\n",
       "      <td>0</td>\n",
       "      <td>0</td>\n",
       "    </tr>\n",
       "    <tr>\n",
       "      <th>19236</th>\n",
       "      <td>1</td>\n",
       "      <td>3</td>\n",
       "      <td>4</td>\n",
       "      <td>play_type_unknown</td>\n",
       "      <td>1 RB, 1 TE, 3 WR</td>\n",
       "      <td>1 DL, 5 LB, 5 DB</td>\n",
       "      <td>-10</td>\n",
       "      <td>-14</td>\n",
       "      <td>0.0</td>\n",
       "      <td>0</td>\n",
       "      <td>...</td>\n",
       "      <td>0</td>\n",
       "      <td>0</td>\n",
       "      <td>0</td>\n",
       "      <td>0</td>\n",
       "      <td>0</td>\n",
       "      <td>0</td>\n",
       "      <td>0</td>\n",
       "      <td>0</td>\n",
       "      <td>0</td>\n",
       "      <td>1</td>\n",
       "    </tr>\n",
       "    <tr>\n",
       "      <th>19237</th>\n",
       "      <td>2</td>\n",
       "      <td>3</td>\n",
       "      <td>1</td>\n",
       "      <td>play_type_unknown</td>\n",
       "      <td>1 RB, 1 TE, 3 WR</td>\n",
       "      <td>2 DL, 3 LB, 6 DB</td>\n",
       "      <td>15</td>\n",
       "      <td>14</td>\n",
       "      <td>1.0</td>\n",
       "      <td>0</td>\n",
       "      <td>...</td>\n",
       "      <td>0</td>\n",
       "      <td>0</td>\n",
       "      <td>0</td>\n",
       "      <td>0</td>\n",
       "      <td>0</td>\n",
       "      <td>0</td>\n",
       "      <td>1</td>\n",
       "      <td>0</td>\n",
       "      <td>0</td>\n",
       "      <td>0</td>\n",
       "    </tr>\n",
       "    <tr>\n",
       "      <th>19238</th>\n",
       "      <td>3</td>\n",
       "      <td>1</td>\n",
       "      <td>10</td>\n",
       "      <td>play_type_unknown</td>\n",
       "      <td>1 RB, 1 TE, 3 WR</td>\n",
       "      <td>4 DL, 1 LB, 6 DB</td>\n",
       "      <td>9</td>\n",
       "      <td>-1</td>\n",
       "      <td>0.0</td>\n",
       "      <td>0</td>\n",
       "      <td>...</td>\n",
       "      <td>0</td>\n",
       "      <td>0</td>\n",
       "      <td>1</td>\n",
       "      <td>0</td>\n",
       "      <td>0</td>\n",
       "      <td>0</td>\n",
       "      <td>0</td>\n",
       "      <td>0</td>\n",
       "      <td>0</td>\n",
       "      <td>0</td>\n",
       "    </tr>\n",
       "  </tbody>\n",
       "</table>\n",
       "<p>18405 rows × 32 columns</p>\n",
       "</div>"
      ],
      "text/plain": [
       "       quarter  down  yardsToGo           playType        personnelO  \\\n",
       "0            1     1         15     play_type_pass  2 RB, 1 TE, 2 WR   \n",
       "1            1     1         10     play_type_pass  1 RB, 1 TE, 3 WR   \n",
       "2            1     2         10     play_type_pass  2 RB, 1 TE, 2 WR   \n",
       "3            1     3         10     play_type_pass  1 RB, 1 TE, 3 WR   \n",
       "5            1     2          8     play_type_pass  1 RB, 1 TE, 3 WR   \n",
       "...        ...   ...        ...                ...               ...   \n",
       "19234        3     2          5  play_type_unknown  1 RB, 1 TE, 3 WR   \n",
       "19235        4     3          7  play_type_unknown  1 RB, 1 TE, 3 WR   \n",
       "19236        1     3          4  play_type_unknown  1 RB, 1 TE, 3 WR   \n",
       "19237        2     3          1  play_type_unknown  1 RB, 1 TE, 3 WR   \n",
       "19238        3     1         10  play_type_unknown  1 RB, 1 TE, 3 WR   \n",
       "\n",
       "             personnelD  playResult  runs  Categorical  play_pass  ...  \\\n",
       "0      4 DL, 2 LB, 5 DB          10    -5          0.0          1  ...   \n",
       "1      4 DL, 2 LB, 5 DB           0   -10          0.0          1  ...   \n",
       "2      4 DL, 2 LB, 5 DB           0   -10          0.0          1  ...   \n",
       "3      4 DL, 1 LB, 6 DB          33    23          1.0          1  ...   \n",
       "5      3 DL, 3 LB, 5 DB           4    -4          0.0          1  ...   \n",
       "...                 ...         ...   ...          ...        ...  ...   \n",
       "19234  2 DL, 4 LB, 5 DB           5     0          0.0          0  ...   \n",
       "19235  2 DL, 4 LB, 5 DB           5    -2          0.0          0  ...   \n",
       "19236  1 DL, 5 LB, 5 DB         -10   -14          0.0          0  ...   \n",
       "19237  2 DL, 3 LB, 6 DB          15    14          1.0          0  ...   \n",
       "19238  4 DL, 1 LB, 6 DB           9    -1          0.0          0  ...   \n",
       "\n",
       "       1 RB, 0 TE, 4 WR 4 DL, 2 LB, 5 DB  4 DL, 1 LB, 6 DB  3 DL, 3 LB, 5 DB  \\\n",
       "0                     0                1                 0                 0   \n",
       "1                     0                1                 0                 0   \n",
       "2                     0                1                 0                 0   \n",
       "3                     0                0                 1                 0   \n",
       "5                     0                0                 0                 1   \n",
       "...                 ...              ...               ...               ...   \n",
       "19234                 0                0                 0                 0   \n",
       "19235                 0                0                 0                 0   \n",
       "19236                 0                0                 0                 0   \n",
       "19237                 0                0                 0                 0   \n",
       "19238                 0                0                 1                 0   \n",
       "\n",
       "       4 DL, 3 LB, 4 DB  3 DL, 4 LB, 4 DB  2 DL, 3 LB, 6 DB  2 DL, 4 LB, 5 DB  \\\n",
       "0                     0                 0                 0                 0   \n",
       "1                     0                 0                 0                 0   \n",
       "2                     0                 0                 0                 0   \n",
       "3                     0                 0                 0                 0   \n",
       "5                     0                 0                 0                 0   \n",
       "...                 ...               ...               ...               ...   \n",
       "19234                 0                 0                 0                 1   \n",
       "19235                 0                 0                 0                 1   \n",
       "19236                 0                 0                 0                 0   \n",
       "19237                 0                 0                 1                 0   \n",
       "19238                 0                 0                 0                 0   \n",
       "\n",
       "       3 DL, 2 LB, 6 DB  1 DL, 5 LB, 5 DB  \n",
       "0                     0                 0  \n",
       "1                     0                 0  \n",
       "2                     0                 0  \n",
       "3                     0                 0  \n",
       "5                     0                 0  \n",
       "...                 ...               ...  \n",
       "19234                 0                 0  \n",
       "19235                 0                 0  \n",
       "19236                 0                 1  \n",
       "19237                 0                 0  \n",
       "19238                 0                 0  \n",
       "\n",
       "[18405 rows x 32 columns]"
      ]
     },
     "execution_count": 26,
     "metadata": {},
     "output_type": "execute_result"
    }
   ],
   "source": [
    "new_df"
   ]
  },
  {
   "cell_type": "code",
   "execution_count": 27,
   "metadata": {
    "id": "3Ljwho_B6xyz"
   },
   "outputs": [],
   "source": [
    "x_df=new_df[['quarter','down','10_yards','less_than_10','play_pass','play_sack','2 RB, 1 TE, 2 WR', '1 RB, 1 TE, 3 WR', '1 RB, 2 TE, 2 WR',\n",
    "       '1 RB, 3 TE, 1 WR', '2 RB, 0 TE, 3 WR', '2 RB, 2 TE, 1 WR',\n",
    "       '0 RB, 1 TE, 4 WR', '6 OL, 1 RB, 1 TE, 2 WR', '1 RB, 0 TE, 4 WR','4 DL, 2 LB, 5 DB', '4 DL, 1 LB, 6 DB', '3 DL, 3 LB, 5 DB',\n",
    "       '4 DL, 3 LB, 4 DB', '3 DL, 4 LB, 4 DB', '2 DL, 3 LB, 6 DB',\n",
    "       '2 DL, 4 LB, 5 DB', '3 DL, 2 LB, 6 DB', '1 DL, 5 LB, 5 DB' ]]\n",
    "y_df=new_df['Categorical']"
   ]
  },
  {
   "cell_type": "code",
   "execution_count": 28,
   "metadata": {},
   "outputs": [],
   "source": [
    "x_df=x_df.to_numpy()\n",
    "y_df=y_df.to_numpy()"
   ]
  },
  {
   "cell_type": "code",
   "execution_count": 29,
   "metadata": {},
   "outputs": [],
   "source": [
    "from sklearn.model_selection import train_test_split\n",
    "from sklearn.linear_model import LinearRegression\n",
    "from sklearn.neighbors import KNeighborsClassifier\n",
    "from sklearn.metrics import mean_squared_error as mse\n",
    "from sklearn import svm\n",
    "from sklearn.ensemble import RandomForestClassifier\n",
    "from sklearn.metrics import accuracy_score\n",
    "from sklearn.linear_model import LogisticRegression\n",
    "from sklearn import tree\n",
    "from sklearn.tree import DecisionTreeClassifier"
   ]
  },
  {
   "cell_type": "code",
   "execution_count": 30,
   "metadata": {
    "id": "BVT0qawi7dTz"
   },
   "outputs": [],
   "source": [
    "X_train,X_test,y_train,y_test = train_test_split(x_df,y_df,\n",
    "                                                 test_size = .25,\n",
    "                                                 random_state = 614,\n",
    "                                                 shuffle = True,\n",
    "                                                 stratify = y_df)"
   ]
  },
  {
   "cell_type": "code",
   "execution_count": 31,
   "metadata": {
    "colab": {
     "base_uri": "https://localhost:8080/"
    },
    "id": "pSLFEJ7d7gtp",
    "outputId": "b3710531-62cc-4cf6-96c2-f7892ae0b527"
   },
   "outputs": [
    {
     "name": "stdout",
     "output_type": "stream",
     "text": [
      "Our model has a  0.6805736636245111 % accuracy on the test set with k= 1\n",
      "Our model has a  0.7707518470230335 % accuracy on the test set with k= 2\n",
      "Our model has a  0.7086049543676662 % accuracy on the test set with k= 3\n",
      "Our model has a  0.7679269882659713 % accuracy on the test set with k= 4\n",
      "Our model has a  0.7394611038678836 % accuracy on the test set with k= 5\n",
      "Our model has a  0.7859626249456758 % accuracy on the test set with k= 6\n",
      "Our model has a  0.7846588439808779 % accuracy on the test set with k= 7\n",
      "Our model has a  0.7935680139069969 % accuracy on the test set with k= 8\n",
      "Our model has a  0.7885701868752716 % accuracy on the test set with k= 9\n",
      "Our model has a  0.7900912646675359 % accuracy on the test set with k= 10\n",
      "Our model has a  0.7903085614950022 % accuracy on the test set with k= 11\n",
      "Our model has a  0.7966101694915254 % accuracy on the test set with k= 12\n",
      "Our model has a  0.7987831377661886 % accuracy on the test set with k= 13\n",
      "Our model has a  0.7974793568013907 % accuracy on the test set with k= 14\n",
      "Our model has a  0.797696653628857 % accuracy on the test set with k= 15\n",
      "Our model has a  0.7953063885267275 % accuracy on the test set with k= 16\n",
      "Our model has a  0.7979139504563233 % accuracy on the test set with k= 17\n",
      "Our model has a  0.7959582790091264 % accuracy on the test set with k= 18\n",
      "Our model has a  0.7996523250760539 % accuracy on the test set with k= 19\n"
     ]
    }
   ],
   "source": [
    "for i in range(1,20):\n",
    "    knn = KNeighborsClassifier(n_neighbors = i)\n",
    "    knn.fit(X_train,y_train)\n",
    "    pred = knn.predict(X_test)\n",
    "    print(\"Our model has a \",\n",
    "      accuracy_score(y_test, pred),\n",
    "      \"% accuracy on the test set with k=\",i)"
   ]
  },
  {
   "cell_type": "code",
   "execution_count": 32,
   "metadata": {},
   "outputs": [
    {
     "name": "stderr",
     "output_type": "stream",
     "text": [
      "/home/pedrozamboni/anaconda3/lib/python3.7/site-packages/sklearn/linear_model/_logistic.py:764: ConvergenceWarning: lbfgs failed to converge (status=1):\n",
      "STOP: TOTAL NO. of ITERATIONS REACHED LIMIT.\n",
      "\n",
      "Increase the number of iterations (max_iter) or scale the data as shown in:\n",
      "    https://scikit-learn.org/stable/modules/preprocessing.html\n",
      "Please also refer to the documentation for alternative solver options:\n",
      "    https://scikit-learn.org/stable/modules/linear_model.html#logistic-regression\n",
      "  extra_warning_msg=_LOGISTIC_SOLVER_CONVERGENCE_MSG)\n"
     ]
    },
    {
     "data": {
      "text/plain": [
       "0.8055193394176445"
      ]
     },
     "execution_count": 32,
     "metadata": {},
     "output_type": "execute_result"
    }
   ],
   "source": [
    "log_reg = LogisticRegression()\n",
    "log_reg.fit(X_train,y_train)\n",
    "pred =log_reg.predict(X_test)\n",
    "accuracy_score(y_test, pred)"
   ]
  },
  {
   "cell_type": "code",
   "execution_count": 33,
   "metadata": {},
   "outputs": [
    {
     "name": "stdout",
     "output_type": "stream",
     "text": [
      "Our model has a  0.8055193394176445 % accuracy on the test set with depth: 1\n",
      "Our model has a  0.8055193394176445 % accuracy on the test set with depth: 2\n",
      "Our model has a  0.8055193394176445 % accuracy on the test set with depth: 3\n",
      "Our model has a  0.8055193394176445 % accuracy on the test set with depth: 4\n",
      "Our model has a  0.8055193394176445 % accuracy on the test set with depth: 5\n",
      "Our model has a  0.8055193394176445 % accuracy on the test set with depth: 6\n",
      "Our model has a  0.8055193394176445 % accuracy on the test set with depth: 7\n",
      "Our model has a  0.8055193394176445 % accuracy on the test set with depth: 8\n",
      "Our model has a  0.8055193394176445 % accuracy on the test set with depth: 9\n",
      "Our model has a  0.8055193394176445 % accuracy on the test set with depth: 10\n",
      "Our model has a  0.8055193394176445 % accuracy on the test set with depth: 20\n",
      "Our model has a  0.8055193394176445 % accuracy on the test set with depth: 30\n",
      "Our model has a  0.8055193394176445 % accuracy on the test set with depth: 50\n",
      "Our model has a  0.8055193394176445 % accuracy on the test set with depth: 100\n",
      "Our model has a  0.8055193394176445 % accuracy on the test set with depth: 500\n",
      "Our model has a  0.8055193394176445 % accuracy on the test set with depth: 1000\n"
     ]
    }
   ],
   "source": [
    "max_depths=[1,2,3,4,5,6,7,8,9,10,20,30,50,100,500,1000]\n",
    "for j in range(len(max_depths)):\n",
    "    rd_cfl=DecisionTreeClassifier(max_depth = max_depths[j], random_state=614)\n",
    "    rd_cfl.fit(X_train,y_train)\n",
    "    y_pred=rd_cfl.predict(X_test)\n",
    "    print(\"Our model has a \",\n",
    "  accuracy_score(y_test, pred),\n",
    "\"% accuracy on the test set with depth:\",max_depths[j])"
   ]
  },
  {
   "cell_type": "code",
   "execution_count": 34,
   "metadata": {},
   "outputs": [
    {
     "name": "stdout",
     "output_type": "stream",
     "text": [
      "Our model has a  0.8055193394176445 % accuracy on the test set with depth: 1\n",
      "Our model has a  0.8055193394176445 % accuracy on the test set with depth: 2\n",
      "Our model has a  0.8055193394176445 % accuracy on the test set with depth: 3\n",
      "Our model has a  0.8055193394176445 % accuracy on the test set with depth: 4\n",
      "Our model has a  0.8055193394176445 % accuracy on the test set with depth: 5\n",
      "Our model has a  0.8055193394176445 % accuracy on the test set with depth: 6\n",
      "Our model has a  0.8055193394176445 % accuracy on the test set with depth: 7\n",
      "Our model has a  0.8055193394176445 % accuracy on the test set with depth: 8\n",
      "Our model has a  0.8055193394176445 % accuracy on the test set with depth: 9\n",
      "Our model has a  0.8055193394176445 % accuracy on the test set with depth: 10\n",
      "Our model has a  0.8055193394176445 % accuracy on the test set with depth: 20\n",
      "Our model has a  0.8055193394176445 % accuracy on the test set with depth: 30\n",
      "Our model has a  0.8055193394176445 % accuracy on the test set with depth: 50\n",
      "Our model has a  0.8055193394176445 % accuracy on the test set with depth: 100\n",
      "Our model has a  0.8055193394176445 % accuracy on the test set with depth: 500\n",
      "Our model has a  0.8055193394176445 % accuracy on the test set with depth: 1000\n"
     ]
    }
   ],
   "source": [
    "max_depths=[1,2,3,4,5,6,7,8,9,10,20,30,50,100,500,1000]\n",
    "for j in range(len(max_depths)):\n",
    "    rd_cfl=RandomForestClassifier(max_depth = max_depths[j], random_state=614)\n",
    "    rd_cfl.fit(X_train,y_train)\n",
    "    y_pred=rd_cfl.predict(X_test)\n",
    "    print(\"Our model has a \",\n",
    "  accuracy_score(y_test, pred),\n",
    "\"% accuracy on the test set with depth:\",max_depths[j])"
   ]
  },
  {
   "cell_type": "code",
   "execution_count": 35,
   "metadata": {
    "colab": {
     "base_uri": "https://localhost:8080/"
    },
    "id": "g8PXUsZN71sw",
    "outputId": "915f10b9-0ad1-4d25-c9c3-31b1f05a1938"
   },
   "outputs": [
    {
     "name": "stdout",
     "output_type": "stream",
     "text": [
      "Our model has a  80.55 % accuracy on the training set with \n"
     ]
    }
   ],
   "source": [
    "clf = svm.SVC()\n",
    "clf.fit(X_train,y_train)\n",
    "pred =clf.predict(X_test)\n",
    "print(\"Our model has a \",\n",
    "  np.round(sum(pred == y_test)/len(y_test)*100,2),\n",
    "  \"% accuracy on the training set with \")\n"
   ]
  },
  {
   "cell_type": "code",
   "execution_count": 36,
   "metadata": {},
   "outputs": [
    {
     "name": "stdout",
     "output_type": "stream",
     "text": [
      "Our model has a  80.55 % accuracy on the test set with \n"
     ]
    }
   ],
   "source": [
    "svc = svm.SVC(kernel = \"sigmoid\", coef0 = 1)\n",
    "\n",
    "svc.fit(X_train,y_train)\n",
    "y_pred = svc.predict(X_test)\n",
    "print(\"Our model has a \",\n",
    "  np.round(sum(pred == y_test)/len(y_test)*100,2),\n",
    "  \"% accuracy on the test set with \")\n"
   ]
  },
  {
   "cell_type": "code",
   "execution_count": 38,
   "metadata": {},
   "outputs": [
    {
     "name": "stderr",
     "output_type": "stream",
     "text": [
      "/home/pedrozamboni/anaconda3/lib/python3.7/site-packages/sklearn/linear_model/_logistic.py:764: ConvergenceWarning: lbfgs failed to converge (status=1):\n",
      "STOP: TOTAL NO. of ITERATIONS REACHED LIMIT.\n",
      "\n",
      "Increase the number of iterations (max_iter) or scale the data as shown in:\n",
      "    https://scikit-learn.org/stable/modules/preprocessing.html\n",
      "Please also refer to the documentation for alternative solver options:\n",
      "    https://scikit-learn.org/stable/modules/linear_model.html#logistic-regression\n",
      "  extra_warning_msg=_LOGISTIC_SOLVER_CONVERGENCE_MSG)\n"
     ]
    },
    {
     "data": {
      "text/plain": [
       "0.8055193394176445"
      ]
     },
     "execution_count": 38,
     "metadata": {},
     "output_type": "execute_result"
    }
   ],
   "source": [
    "from sklearn.ensemble import VotingClassifier\n",
    "voting_clf = VotingClassifier(\n",
    "                [('lr',LogisticRegression()),\n",
    "                ('rf',RandomForestClassifier()),\n",
    "                ('svm',svm.SVC()),\n",
    "                ('knn',KNeighborsClassifier())],\n",
    "                voting = \"hard\")\n",
    "\n",
    "voting_clf.fit(X_train,y_train)\n",
    "y_pred = voting_clf.predict(X_test)\n",
    "sum(y_test == y_pred)/len(y_pred)"
   ]
  },
  {
   "cell_type": "code",
   "execution_count": 39,
   "metadata": {},
   "outputs": [],
   "source": [
    "from sklearn.ensemble import BaggingClassifier\n",
    "\n",
    "bag_clf = BaggingClassifier(svm.SVC(),\n",
    "                            bootstrap = True)\n",
    "\n",
    "paste_clf = BaggingClassifier(svm.SVC(),\n",
    "                            bootstrap = False )"
   ]
  },
  {
   "cell_type": "code",
   "execution_count": 40,
   "metadata": {},
   "outputs": [
    {
     "name": "stdout",
     "output_type": "stream",
     "text": [
      "Bagging Accuracy 0.80552\n",
      "Pasting Accuracy 0.80552\n"
     ]
    }
   ],
   "source": [
    "# Fit Bagged Data\n",
    "bag_clf.fit(X_train,y_train)\n",
    "y_pred = bag_clf.predict(X_test)\n",
    "\n",
    "acc = sum(y_test == y_pred)/len(y_pred)\n",
    "\n",
    "print(\"Bagging Accuracy\", np.round(acc,5))\n",
    "\n",
    "## Fit Paste Data\n",
    "paste_clf.fit(X_train,y_train)\n",
    "y_pred = paste_clf.predict(X_test)\n",
    "\n",
    "acc = sum(y_test == y_pred)/len(y_pred)\n",
    "\n",
    "print(\"Pasting Accuracy\", np.round(acc,5))"
   ]
  },
  {
   "cell_type": "code",
   "execution_count": 79,
   "metadata": {},
   "outputs": [
    {
     "name": "stdout",
     "output_type": "stream",
     "text": [
      "(13803, 24) (4602, 24)\n",
      "(13803,) (4602,)\n"
     ]
    }
   ],
   "source": [
    "print(X_train.shape,X_test.shape)\n",
    "print(y_train.shape,y_test.shape)"
   ]
  },
  {
   "cell_type": "code",
   "execution_count": 106,
   "metadata": {},
   "outputs": [
    {
     "ename": "ValueError",
     "evalue": "Input 0 of layer simple_rnn_8 is incompatible with the layer: expected ndim=3, found ndim=2. Full shape received: (None, 500)",
     "output_type": "error",
     "traceback": [
      "\u001b[0;31m---------------------------------------------------------------------------\u001b[0m",
      "\u001b[0;31mValueError\u001b[0m                                Traceback (most recent call last)",
      "\u001b[0;32m<ipython-input-106-b86fe4a53304>\u001b[0m in \u001b[0;36m<module>\u001b[0;34m\u001b[0m\n\u001b[1;32m      6\u001b[0m                                    \u001b[0mtf\u001b[0m\u001b[0;34m.\u001b[0m\u001b[0mkeras\u001b[0m\u001b[0;34m.\u001b[0m\u001b[0mlayers\u001b[0m\u001b[0;34m.\u001b[0m\u001b[0mSimpleRNN\u001b[0m\u001b[0;34m(\u001b[0m\u001b[0;36m50\u001b[0m\u001b[0;34m,\u001b[0m \u001b[0mreturn_sequences\u001b[0m\u001b[0;34m=\u001b[0m\u001b[0;32mFalse\u001b[0m\u001b[0;34m)\u001b[0m\u001b[0;34m,\u001b[0m\u001b[0;34m\u001b[0m\u001b[0;34m\u001b[0m\u001b[0m\n\u001b[1;32m      7\u001b[0m                                    \u001b[0mtf\u001b[0m\u001b[0;34m.\u001b[0m\u001b[0mkeras\u001b[0m\u001b[0;34m.\u001b[0m\u001b[0mlayers\u001b[0m\u001b[0;34m.\u001b[0m\u001b[0mDropout\u001b[0m\u001b[0;34m(\u001b[0m\u001b[0;36m0.4\u001b[0m\u001b[0;34m)\u001b[0m\u001b[0;34m,\u001b[0m\u001b[0;34m\u001b[0m\u001b[0;34m\u001b[0m\u001b[0m\n\u001b[0;32m----> 8\u001b[0;31m                                   tf.keras.layers.Dense(1, activation='sigmoid', kernel_initializer=tf.initializers.zeros)])\n\u001b[0m\u001b[1;32m      9\u001b[0m \u001b[0;34m\u001b[0m\u001b[0m\n\u001b[1;32m     10\u001b[0m \u001b[0;34m\u001b[0m\u001b[0m\n",
      "\u001b[0;32m~/anaconda3/lib/python3.7/site-packages/tensorflow/python/training/tracking/base.py\u001b[0m in \u001b[0;36m_method_wrapper\u001b[0;34m(self, *args, **kwargs)\u001b[0m\n\u001b[1;32m    515\u001b[0m     \u001b[0mself\u001b[0m\u001b[0;34m.\u001b[0m\u001b[0m_self_setattr_tracking\u001b[0m \u001b[0;34m=\u001b[0m \u001b[0;32mFalse\u001b[0m  \u001b[0;31m# pylint: disable=protected-access\u001b[0m\u001b[0;34m\u001b[0m\u001b[0;34m\u001b[0m\u001b[0m\n\u001b[1;32m    516\u001b[0m     \u001b[0;32mtry\u001b[0m\u001b[0;34m:\u001b[0m\u001b[0;34m\u001b[0m\u001b[0;34m\u001b[0m\u001b[0m\n\u001b[0;32m--> 517\u001b[0;31m       \u001b[0mresult\u001b[0m \u001b[0;34m=\u001b[0m \u001b[0mmethod\u001b[0m\u001b[0;34m(\u001b[0m\u001b[0mself\u001b[0m\u001b[0;34m,\u001b[0m \u001b[0;34m*\u001b[0m\u001b[0margs\u001b[0m\u001b[0;34m,\u001b[0m \u001b[0;34m**\u001b[0m\u001b[0mkwargs\u001b[0m\u001b[0;34m)\u001b[0m\u001b[0;34m\u001b[0m\u001b[0;34m\u001b[0m\u001b[0m\n\u001b[0m\u001b[1;32m    518\u001b[0m     \u001b[0;32mfinally\u001b[0m\u001b[0;34m:\u001b[0m\u001b[0;34m\u001b[0m\u001b[0;34m\u001b[0m\u001b[0m\n\u001b[1;32m    519\u001b[0m       \u001b[0mself\u001b[0m\u001b[0;34m.\u001b[0m\u001b[0m_self_setattr_tracking\u001b[0m \u001b[0;34m=\u001b[0m \u001b[0mprevious_value\u001b[0m  \u001b[0;31m# pylint: disable=protected-access\u001b[0m\u001b[0;34m\u001b[0m\u001b[0;34m\u001b[0m\u001b[0m\n",
      "\u001b[0;32m~/anaconda3/lib/python3.7/site-packages/tensorflow/python/keras/engine/sequential.py\u001b[0m in \u001b[0;36m__init__\u001b[0;34m(self, layers, name)\u001b[0m\n\u001b[1;32m    143\u001b[0m         \u001b[0mlayers\u001b[0m \u001b[0;34m=\u001b[0m \u001b[0;34m[\u001b[0m\u001b[0mlayers\u001b[0m\u001b[0;34m]\u001b[0m\u001b[0;34m\u001b[0m\u001b[0;34m\u001b[0m\u001b[0m\n\u001b[1;32m    144\u001b[0m       \u001b[0;32mfor\u001b[0m \u001b[0mlayer\u001b[0m \u001b[0;32min\u001b[0m \u001b[0mlayers\u001b[0m\u001b[0;34m:\u001b[0m\u001b[0;34m\u001b[0m\u001b[0;34m\u001b[0m\u001b[0m\n\u001b[0;32m--> 145\u001b[0;31m         \u001b[0mself\u001b[0m\u001b[0;34m.\u001b[0m\u001b[0madd\u001b[0m\u001b[0;34m(\u001b[0m\u001b[0mlayer\u001b[0m\u001b[0;34m)\u001b[0m\u001b[0;34m\u001b[0m\u001b[0;34m\u001b[0m\u001b[0m\n\u001b[0m\u001b[1;32m    146\u001b[0m \u001b[0;34m\u001b[0m\u001b[0m\n\u001b[1;32m    147\u001b[0m   \u001b[0;34m@\u001b[0m\u001b[0mproperty\u001b[0m\u001b[0;34m\u001b[0m\u001b[0;34m\u001b[0m\u001b[0m\n",
      "\u001b[0;32m~/anaconda3/lib/python3.7/site-packages/tensorflow/python/training/tracking/base.py\u001b[0m in \u001b[0;36m_method_wrapper\u001b[0;34m(self, *args, **kwargs)\u001b[0m\n\u001b[1;32m    515\u001b[0m     \u001b[0mself\u001b[0m\u001b[0;34m.\u001b[0m\u001b[0m_self_setattr_tracking\u001b[0m \u001b[0;34m=\u001b[0m \u001b[0;32mFalse\u001b[0m  \u001b[0;31m# pylint: disable=protected-access\u001b[0m\u001b[0;34m\u001b[0m\u001b[0;34m\u001b[0m\u001b[0m\n\u001b[1;32m    516\u001b[0m     \u001b[0;32mtry\u001b[0m\u001b[0;34m:\u001b[0m\u001b[0;34m\u001b[0m\u001b[0;34m\u001b[0m\u001b[0m\n\u001b[0;32m--> 517\u001b[0;31m       \u001b[0mresult\u001b[0m \u001b[0;34m=\u001b[0m \u001b[0mmethod\u001b[0m\u001b[0;34m(\u001b[0m\u001b[0mself\u001b[0m\u001b[0;34m,\u001b[0m \u001b[0;34m*\u001b[0m\u001b[0margs\u001b[0m\u001b[0;34m,\u001b[0m \u001b[0;34m**\u001b[0m\u001b[0mkwargs\u001b[0m\u001b[0;34m)\u001b[0m\u001b[0;34m\u001b[0m\u001b[0;34m\u001b[0m\u001b[0m\n\u001b[0m\u001b[1;32m    518\u001b[0m     \u001b[0;32mfinally\u001b[0m\u001b[0;34m:\u001b[0m\u001b[0;34m\u001b[0m\u001b[0;34m\u001b[0m\u001b[0m\n\u001b[1;32m    519\u001b[0m       \u001b[0mself\u001b[0m\u001b[0;34m.\u001b[0m\u001b[0m_self_setattr_tracking\u001b[0m \u001b[0;34m=\u001b[0m \u001b[0mprevious_value\u001b[0m  \u001b[0;31m# pylint: disable=protected-access\u001b[0m\u001b[0;34m\u001b[0m\u001b[0;34m\u001b[0m\u001b[0m\n",
      "\u001b[0;32m~/anaconda3/lib/python3.7/site-packages/tensorflow/python/keras/engine/sequential.py\u001b[0m in \u001b[0;36madd\u001b[0;34m(self, layer)\u001b[0m\n\u001b[1;32m    230\u001b[0m       \u001b[0;31m# If the model is being built continuously on top of an input layer:\u001b[0m\u001b[0;34m\u001b[0m\u001b[0;34m\u001b[0m\u001b[0;34m\u001b[0m\u001b[0m\n\u001b[1;32m    231\u001b[0m       \u001b[0;31m# refresh its output.\u001b[0m\u001b[0;34m\u001b[0m\u001b[0;34m\u001b[0m\u001b[0;34m\u001b[0m\u001b[0m\n\u001b[0;32m--> 232\u001b[0;31m       \u001b[0moutput_tensor\u001b[0m \u001b[0;34m=\u001b[0m \u001b[0mlayer\u001b[0m\u001b[0;34m(\u001b[0m\u001b[0mself\u001b[0m\u001b[0;34m.\u001b[0m\u001b[0moutputs\u001b[0m\u001b[0;34m[\u001b[0m\u001b[0;36m0\u001b[0m\u001b[0;34m]\u001b[0m\u001b[0;34m)\u001b[0m\u001b[0;34m\u001b[0m\u001b[0;34m\u001b[0m\u001b[0m\n\u001b[0m\u001b[1;32m    233\u001b[0m       \u001b[0;32mif\u001b[0m \u001b[0mlen\u001b[0m\u001b[0;34m(\u001b[0m\u001b[0mnest\u001b[0m\u001b[0;34m.\u001b[0m\u001b[0mflatten\u001b[0m\u001b[0;34m(\u001b[0m\u001b[0moutput_tensor\u001b[0m\u001b[0;34m)\u001b[0m\u001b[0;34m)\u001b[0m \u001b[0;34m!=\u001b[0m \u001b[0;36m1\u001b[0m\u001b[0;34m:\u001b[0m\u001b[0;34m\u001b[0m\u001b[0;34m\u001b[0m\u001b[0m\n\u001b[1;32m    234\u001b[0m         \u001b[0;32mraise\u001b[0m \u001b[0mValueError\u001b[0m\u001b[0;34m(\u001b[0m\u001b[0mSINGLE_LAYER_OUTPUT_ERROR_MSG\u001b[0m\u001b[0;34m)\u001b[0m\u001b[0;34m\u001b[0m\u001b[0;34m\u001b[0m\u001b[0m\n",
      "\u001b[0;32m~/anaconda3/lib/python3.7/site-packages/tensorflow/python/keras/layers/recurrent.py\u001b[0m in \u001b[0;36m__call__\u001b[0;34m(self, inputs, initial_state, constants, **kwargs)\u001b[0m\n\u001b[1;32m    670\u001b[0m \u001b[0;34m\u001b[0m\u001b[0m\n\u001b[1;32m    671\u001b[0m     \u001b[0;32mif\u001b[0m \u001b[0minitial_state\u001b[0m \u001b[0;32mis\u001b[0m \u001b[0;32mNone\u001b[0m \u001b[0;32mand\u001b[0m \u001b[0mconstants\u001b[0m \u001b[0;32mis\u001b[0m \u001b[0;32mNone\u001b[0m\u001b[0;34m:\u001b[0m\u001b[0;34m\u001b[0m\u001b[0;34m\u001b[0m\u001b[0m\n\u001b[0;32m--> 672\u001b[0;31m       \u001b[0;32mreturn\u001b[0m \u001b[0msuper\u001b[0m\u001b[0;34m(\u001b[0m\u001b[0mRNN\u001b[0m\u001b[0;34m,\u001b[0m \u001b[0mself\u001b[0m\u001b[0;34m)\u001b[0m\u001b[0;34m.\u001b[0m\u001b[0m__call__\u001b[0m\u001b[0;34m(\u001b[0m\u001b[0minputs\u001b[0m\u001b[0;34m,\u001b[0m \u001b[0;34m**\u001b[0m\u001b[0mkwargs\u001b[0m\u001b[0;34m)\u001b[0m\u001b[0;34m\u001b[0m\u001b[0;34m\u001b[0m\u001b[0m\n\u001b[0m\u001b[1;32m    673\u001b[0m \u001b[0;34m\u001b[0m\u001b[0m\n\u001b[1;32m    674\u001b[0m     \u001b[0;31m# If any of `initial_state` or `constants` are specified and are Keras\u001b[0m\u001b[0;34m\u001b[0m\u001b[0;34m\u001b[0m\u001b[0;34m\u001b[0m\u001b[0m\n",
      "\u001b[0;32m~/anaconda3/lib/python3.7/site-packages/tensorflow/python/keras/engine/base_layer.py\u001b[0m in \u001b[0;36m__call__\u001b[0;34m(self, *args, **kwargs)\u001b[0m\n\u001b[1;32m    970\u001b[0m     \u001b[0;32mif\u001b[0m \u001b[0m_in_functional_construction_mode\u001b[0m\u001b[0;34m(\u001b[0m\u001b[0mself\u001b[0m\u001b[0;34m,\u001b[0m \u001b[0minputs\u001b[0m\u001b[0;34m,\u001b[0m \u001b[0margs\u001b[0m\u001b[0;34m,\u001b[0m \u001b[0mkwargs\u001b[0m\u001b[0;34m,\u001b[0m \u001b[0minput_list\u001b[0m\u001b[0;34m)\u001b[0m\u001b[0;34m:\u001b[0m\u001b[0;34m\u001b[0m\u001b[0;34m\u001b[0m\u001b[0m\n\u001b[1;32m    971\u001b[0m       return self._functional_construction_call(inputs, args, kwargs,\n\u001b[0;32m--> 972\u001b[0;31m                                                 input_list)\n\u001b[0m\u001b[1;32m    973\u001b[0m \u001b[0;34m\u001b[0m\u001b[0m\n\u001b[1;32m    974\u001b[0m     \u001b[0;31m# Maintains info about the `Layer.call` stack.\u001b[0m\u001b[0;34m\u001b[0m\u001b[0;34m\u001b[0m\u001b[0;34m\u001b[0m\u001b[0m\n",
      "\u001b[0;32m~/anaconda3/lib/python3.7/site-packages/tensorflow/python/keras/engine/base_layer.py\u001b[0m in \u001b[0;36m_functional_construction_call\u001b[0;34m(self, inputs, args, kwargs, input_list)\u001b[0m\n\u001b[1;32m   1109\u001b[0m         \u001b[0;31m# Check input assumptions set after layer building, e.g. input shape.\u001b[0m\u001b[0;34m\u001b[0m\u001b[0;34m\u001b[0m\u001b[0;34m\u001b[0m\u001b[0m\n\u001b[1;32m   1110\u001b[0m         outputs = self._keras_tensor_symbolic_call(\n\u001b[0;32m-> 1111\u001b[0;31m             inputs, input_masks, args, kwargs)\n\u001b[0m\u001b[1;32m   1112\u001b[0m \u001b[0;34m\u001b[0m\u001b[0m\n\u001b[1;32m   1113\u001b[0m         \u001b[0;32mif\u001b[0m \u001b[0moutputs\u001b[0m \u001b[0;32mis\u001b[0m \u001b[0;32mNone\u001b[0m\u001b[0;34m:\u001b[0m\u001b[0;34m\u001b[0m\u001b[0;34m\u001b[0m\u001b[0m\n",
      "\u001b[0;32m~/anaconda3/lib/python3.7/site-packages/tensorflow/python/keras/engine/base_layer.py\u001b[0m in \u001b[0;36m_keras_tensor_symbolic_call\u001b[0;34m(self, inputs, input_masks, args, kwargs)\u001b[0m\n\u001b[1;32m    839\u001b[0m       \u001b[0;32mreturn\u001b[0m \u001b[0mnest\u001b[0m\u001b[0;34m.\u001b[0m\u001b[0mmap_structure\u001b[0m\u001b[0;34m(\u001b[0m\u001b[0mkeras_tensor\u001b[0m\u001b[0;34m.\u001b[0m\u001b[0mKerasTensor\u001b[0m\u001b[0;34m,\u001b[0m \u001b[0moutput_signature\u001b[0m\u001b[0;34m)\u001b[0m\u001b[0;34m\u001b[0m\u001b[0;34m\u001b[0m\u001b[0m\n\u001b[1;32m    840\u001b[0m     \u001b[0;32melse\u001b[0m\u001b[0;34m:\u001b[0m\u001b[0;34m\u001b[0m\u001b[0;34m\u001b[0m\u001b[0m\n\u001b[0;32m--> 841\u001b[0;31m       \u001b[0;32mreturn\u001b[0m \u001b[0mself\u001b[0m\u001b[0;34m.\u001b[0m\u001b[0m_infer_output_signature\u001b[0m\u001b[0;34m(\u001b[0m\u001b[0minputs\u001b[0m\u001b[0;34m,\u001b[0m \u001b[0margs\u001b[0m\u001b[0;34m,\u001b[0m \u001b[0mkwargs\u001b[0m\u001b[0;34m,\u001b[0m \u001b[0minput_masks\u001b[0m\u001b[0;34m)\u001b[0m\u001b[0;34m\u001b[0m\u001b[0;34m\u001b[0m\u001b[0m\n\u001b[0m\u001b[1;32m    842\u001b[0m \u001b[0;34m\u001b[0m\u001b[0m\n\u001b[1;32m    843\u001b[0m   \u001b[0;32mdef\u001b[0m \u001b[0m_infer_output_signature\u001b[0m\u001b[0;34m(\u001b[0m\u001b[0mself\u001b[0m\u001b[0;34m,\u001b[0m \u001b[0minputs\u001b[0m\u001b[0;34m,\u001b[0m \u001b[0margs\u001b[0m\u001b[0;34m,\u001b[0m \u001b[0mkwargs\u001b[0m\u001b[0;34m,\u001b[0m \u001b[0minput_masks\u001b[0m\u001b[0;34m)\u001b[0m\u001b[0;34m:\u001b[0m\u001b[0;34m\u001b[0m\u001b[0;34m\u001b[0m\u001b[0m\n",
      "\u001b[0;32m~/anaconda3/lib/python3.7/site-packages/tensorflow/python/keras/engine/base_layer.py\u001b[0m in \u001b[0;36m_infer_output_signature\u001b[0;34m(self, inputs, args, kwargs, input_masks)\u001b[0m\n\u001b[1;32m    879\u001b[0m           \u001b[0;31m# overridden).\u001b[0m\u001b[0;34m\u001b[0m\u001b[0;34m\u001b[0m\u001b[0;34m\u001b[0m\u001b[0m\n\u001b[1;32m    880\u001b[0m           \u001b[0;31m# TODO(kaftan): do we maybe_build here, or have we already done it?\u001b[0m\u001b[0;34m\u001b[0m\u001b[0;34m\u001b[0m\u001b[0;34m\u001b[0m\u001b[0m\n\u001b[0;32m--> 881\u001b[0;31m           \u001b[0mself\u001b[0m\u001b[0;34m.\u001b[0m\u001b[0m_maybe_build\u001b[0m\u001b[0;34m(\u001b[0m\u001b[0minputs\u001b[0m\u001b[0;34m)\u001b[0m\u001b[0;34m\u001b[0m\u001b[0;34m\u001b[0m\u001b[0m\n\u001b[0m\u001b[1;32m    882\u001b[0m           \u001b[0moutputs\u001b[0m \u001b[0;34m=\u001b[0m \u001b[0mcall_fn\u001b[0m\u001b[0;34m(\u001b[0m\u001b[0minputs\u001b[0m\u001b[0;34m,\u001b[0m \u001b[0;34m*\u001b[0m\u001b[0margs\u001b[0m\u001b[0;34m,\u001b[0m \u001b[0;34m**\u001b[0m\u001b[0mkwargs\u001b[0m\u001b[0;34m)\u001b[0m\u001b[0;34m\u001b[0m\u001b[0;34m\u001b[0m\u001b[0m\n\u001b[1;32m    883\u001b[0m \u001b[0;34m\u001b[0m\u001b[0m\n",
      "\u001b[0;32m~/anaconda3/lib/python3.7/site-packages/tensorflow/python/keras/engine/base_layer.py\u001b[0m in \u001b[0;36m_maybe_build\u001b[0;34m(self, inputs)\u001b[0m\n\u001b[1;32m   2695\u001b[0m     \u001b[0;32mif\u001b[0m \u001b[0;32mnot\u001b[0m \u001b[0mself\u001b[0m\u001b[0;34m.\u001b[0m\u001b[0mbuilt\u001b[0m\u001b[0;34m:\u001b[0m\u001b[0;34m\u001b[0m\u001b[0;34m\u001b[0m\u001b[0m\n\u001b[1;32m   2696\u001b[0m       input_spec.assert_input_compatibility(\n\u001b[0;32m-> 2697\u001b[0;31m           self.input_spec, inputs, self.name)\n\u001b[0m\u001b[1;32m   2698\u001b[0m       \u001b[0minput_list\u001b[0m \u001b[0;34m=\u001b[0m \u001b[0mnest\u001b[0m\u001b[0;34m.\u001b[0m\u001b[0mflatten\u001b[0m\u001b[0;34m(\u001b[0m\u001b[0minputs\u001b[0m\u001b[0;34m)\u001b[0m\u001b[0;34m\u001b[0m\u001b[0;34m\u001b[0m\u001b[0m\n\u001b[1;32m   2699\u001b[0m       \u001b[0;32mif\u001b[0m \u001b[0minput_list\u001b[0m \u001b[0;32mand\u001b[0m \u001b[0mself\u001b[0m\u001b[0;34m.\u001b[0m\u001b[0m_dtype_policy\u001b[0m\u001b[0;34m.\u001b[0m\u001b[0mcompute_dtype\u001b[0m \u001b[0;32mis\u001b[0m \u001b[0;32mNone\u001b[0m\u001b[0;34m:\u001b[0m\u001b[0;34m\u001b[0m\u001b[0;34m\u001b[0m\u001b[0m\n",
      "\u001b[0;32m~/anaconda3/lib/python3.7/site-packages/tensorflow/python/keras/engine/input_spec.py\u001b[0m in \u001b[0;36massert_input_compatibility\u001b[0;34m(input_spec, inputs, layer_name)\u001b[0m\n\u001b[1;32m    221\u001b[0m                          \u001b[0;34m'expected ndim='\u001b[0m \u001b[0;34m+\u001b[0m \u001b[0mstr\u001b[0m\u001b[0;34m(\u001b[0m\u001b[0mspec\u001b[0m\u001b[0;34m.\u001b[0m\u001b[0mndim\u001b[0m\u001b[0;34m)\u001b[0m \u001b[0;34m+\u001b[0m \u001b[0;34m', found ndim='\u001b[0m \u001b[0;34m+\u001b[0m\u001b[0;34m\u001b[0m\u001b[0;34m\u001b[0m\u001b[0m\n\u001b[1;32m    222\u001b[0m                          \u001b[0mstr\u001b[0m\u001b[0;34m(\u001b[0m\u001b[0mndim\u001b[0m\u001b[0;34m)\u001b[0m \u001b[0;34m+\u001b[0m \u001b[0;34m'. Full shape received: '\u001b[0m \u001b[0;34m+\u001b[0m\u001b[0;34m\u001b[0m\u001b[0;34m\u001b[0m\u001b[0m\n\u001b[0;32m--> 223\u001b[0;31m                          str(tuple(shape)))\n\u001b[0m\u001b[1;32m    224\u001b[0m     \u001b[0;32mif\u001b[0m \u001b[0mspec\u001b[0m\u001b[0;34m.\u001b[0m\u001b[0mmax_ndim\u001b[0m \u001b[0;32mis\u001b[0m \u001b[0;32mnot\u001b[0m \u001b[0;32mNone\u001b[0m\u001b[0;34m:\u001b[0m\u001b[0;34m\u001b[0m\u001b[0;34m\u001b[0m\u001b[0m\n\u001b[1;32m    225\u001b[0m       \u001b[0mndim\u001b[0m \u001b[0;34m=\u001b[0m \u001b[0mx\u001b[0m\u001b[0;34m.\u001b[0m\u001b[0mshape\u001b[0m\u001b[0;34m.\u001b[0m\u001b[0mrank\u001b[0m\u001b[0;34m\u001b[0m\u001b[0;34m\u001b[0m\u001b[0m\n",
      "\u001b[0;31mValueError\u001b[0m: Input 0 of layer simple_rnn_8 is incompatible with the layer: expected ndim=3, found ndim=2. Full shape received: (None, 500)"
     ]
    }
   ],
   "source": [
    "import tensorflow as tf\n",
    "from tensorflow import keras\n",
    "\n",
    "\n",
    "model= tf.keras.models.Sequential([tf.keras.layers.Dense(units=500,activation='relu',input_dim=24),\n",
    "                                   tf.keras.layers.SimpleRNN(50, return_sequences=False),\n",
    "                                   tf.keras.layers.Dropout(0.4),\n",
    "                                  tf.keras.layers.Dense(1, activation='sigmoid', kernel_initializer=tf.initializers.zeros)])\n",
    "\n",
    "\n",
    "model.summary()"
   ]
  },
  {
   "cell_type": "code",
   "execution_count": 102,
   "metadata": {},
   "outputs": [],
   "source": [
    "model.compile(optimizer='adam', \n",
    "              loss='binary_crossentropy', \n",
    "              metrics=['accuracy'])"
   ]
  },
  {
   "cell_type": "code",
   "execution_count": 103,
   "metadata": {},
   "outputs": [
    {
     "name": "stdout",
     "output_type": "stream",
     "text": [
      "Epoch 1/20\n"
     ]
    },
    {
     "ename": "ValueError",
     "evalue": "in user code:\n\n    /home/pedrozamboni/anaconda3/lib/python3.7/site-packages/tensorflow/python/keras/engine/training.py:839 train_function  *\n        return step_function(self, iterator)\n    /home/pedrozamboni/anaconda3/lib/python3.7/site-packages/tensorflow/python/keras/engine/training.py:829 step_function  **\n        outputs = model.distribute_strategy.run(run_step, args=(data,))\n    /home/pedrozamboni/anaconda3/lib/python3.7/site-packages/tensorflow/python/distribute/distribute_lib.py:1262 run\n        return self._extended.call_for_each_replica(fn, args=args, kwargs=kwargs)\n    /home/pedrozamboni/anaconda3/lib/python3.7/site-packages/tensorflow/python/distribute/distribute_lib.py:2734 call_for_each_replica\n        return self._call_for_each_replica(fn, args, kwargs)\n    /home/pedrozamboni/anaconda3/lib/python3.7/site-packages/tensorflow/python/distribute/distribute_lib.py:3423 _call_for_each_replica\n        return fn(*args, **kwargs)\n    /home/pedrozamboni/anaconda3/lib/python3.7/site-packages/tensorflow/python/keras/engine/training.py:822 run_step  **\n        outputs = model.train_step(data)\n    /home/pedrozamboni/anaconda3/lib/python3.7/site-packages/tensorflow/python/keras/engine/training.py:788 train_step\n        y_pred = self(x, training=True)\n    /home/pedrozamboni/anaconda3/lib/python3.7/site-packages/tensorflow/python/keras/engine/base_layer.py:1018 __call__\n        input_spec.assert_input_compatibility(self.input_spec, inputs, self.name)\n    /home/pedrozamboni/anaconda3/lib/python3.7/site-packages/tensorflow/python/keras/engine/input_spec.py:223 assert_input_compatibility\n        str(tuple(shape)))\n\n    ValueError: Input 0 of layer sequential_16 is incompatible with the layer: expected ndim=3, found ndim=2. Full shape received: (None, 24)\n",
     "output_type": "error",
     "traceback": [
      "\u001b[0;31m---------------------------------------------------------------------------\u001b[0m",
      "\u001b[0;31mValueError\u001b[0m                                Traceback (most recent call last)",
      "\u001b[0;32m<ipython-input-103-1f0949d1afe4>\u001b[0m in \u001b[0;36m<module>\u001b[0;34m\u001b[0m\n\u001b[1;32m      1\u001b[0m model.fit(X_train, y_train,\n\u001b[1;32m      2\u001b[0m           \u001b[0mvalidation_split\u001b[0m\u001b[0;34m=\u001b[0m\u001b[0;36m0.1\u001b[0m\u001b[0;34m,\u001b[0m\u001b[0;34m\u001b[0m\u001b[0;34m\u001b[0m\u001b[0m\n\u001b[0;32m----> 3\u001b[0;31m           epochs=20)\n\u001b[0m",
      "\u001b[0;32m~/anaconda3/lib/python3.7/site-packages/tensorflow/python/keras/engine/training.py\u001b[0m in \u001b[0;36mfit\u001b[0;34m(self, x, y, batch_size, epochs, verbose, callbacks, validation_split, validation_data, shuffle, class_weight, sample_weight, initial_epoch, steps_per_epoch, validation_steps, validation_batch_size, validation_freq, max_queue_size, workers, use_multiprocessing)\u001b[0m\n\u001b[1;32m   1132\u001b[0m                 _r=1):\n\u001b[1;32m   1133\u001b[0m               \u001b[0mcallbacks\u001b[0m\u001b[0;34m.\u001b[0m\u001b[0mon_train_batch_begin\u001b[0m\u001b[0;34m(\u001b[0m\u001b[0mstep\u001b[0m\u001b[0;34m)\u001b[0m\u001b[0;34m\u001b[0m\u001b[0;34m\u001b[0m\u001b[0m\n\u001b[0;32m-> 1134\u001b[0;31m               \u001b[0mtmp_logs\u001b[0m \u001b[0;34m=\u001b[0m \u001b[0mself\u001b[0m\u001b[0;34m.\u001b[0m\u001b[0mtrain_function\u001b[0m\u001b[0;34m(\u001b[0m\u001b[0miterator\u001b[0m\u001b[0;34m)\u001b[0m\u001b[0;34m\u001b[0m\u001b[0;34m\u001b[0m\u001b[0m\n\u001b[0m\u001b[1;32m   1135\u001b[0m               \u001b[0;32mif\u001b[0m \u001b[0mdata_handler\u001b[0m\u001b[0;34m.\u001b[0m\u001b[0mshould_sync\u001b[0m\u001b[0;34m:\u001b[0m\u001b[0;34m\u001b[0m\u001b[0;34m\u001b[0m\u001b[0m\n\u001b[1;32m   1136\u001b[0m                 \u001b[0mcontext\u001b[0m\u001b[0;34m.\u001b[0m\u001b[0masync_wait\u001b[0m\u001b[0;34m(\u001b[0m\u001b[0;34m)\u001b[0m\u001b[0;34m\u001b[0m\u001b[0;34m\u001b[0m\u001b[0m\n",
      "\u001b[0;32m~/anaconda3/lib/python3.7/site-packages/tensorflow/python/eager/def_function.py\u001b[0m in \u001b[0;36m__call__\u001b[0;34m(self, *args, **kwds)\u001b[0m\n\u001b[1;32m    816\u001b[0m     \u001b[0mtracing_count\u001b[0m \u001b[0;34m=\u001b[0m \u001b[0mself\u001b[0m\u001b[0;34m.\u001b[0m\u001b[0mexperimental_get_tracing_count\u001b[0m\u001b[0;34m(\u001b[0m\u001b[0;34m)\u001b[0m\u001b[0;34m\u001b[0m\u001b[0;34m\u001b[0m\u001b[0m\n\u001b[1;32m    817\u001b[0m     \u001b[0;32mwith\u001b[0m \u001b[0mtrace\u001b[0m\u001b[0;34m.\u001b[0m\u001b[0mTrace\u001b[0m\u001b[0;34m(\u001b[0m\u001b[0mself\u001b[0m\u001b[0;34m.\u001b[0m\u001b[0m_name\u001b[0m\u001b[0;34m)\u001b[0m \u001b[0;32mas\u001b[0m \u001b[0mtm\u001b[0m\u001b[0;34m:\u001b[0m\u001b[0;34m\u001b[0m\u001b[0;34m\u001b[0m\u001b[0m\n\u001b[0;32m--> 818\u001b[0;31m       \u001b[0mresult\u001b[0m \u001b[0;34m=\u001b[0m \u001b[0mself\u001b[0m\u001b[0;34m.\u001b[0m\u001b[0m_call\u001b[0m\u001b[0;34m(\u001b[0m\u001b[0;34m*\u001b[0m\u001b[0margs\u001b[0m\u001b[0;34m,\u001b[0m \u001b[0;34m**\u001b[0m\u001b[0mkwds\u001b[0m\u001b[0;34m)\u001b[0m\u001b[0;34m\u001b[0m\u001b[0;34m\u001b[0m\u001b[0m\n\u001b[0m\u001b[1;32m    819\u001b[0m       \u001b[0mcompiler\u001b[0m \u001b[0;34m=\u001b[0m \u001b[0;34m\"xla\"\u001b[0m \u001b[0;32mif\u001b[0m \u001b[0mself\u001b[0m\u001b[0;34m.\u001b[0m\u001b[0m_jit_compile\u001b[0m \u001b[0;32melse\u001b[0m \u001b[0;34m\"nonXla\"\u001b[0m\u001b[0;34m\u001b[0m\u001b[0;34m\u001b[0m\u001b[0m\n\u001b[1;32m    820\u001b[0m       \u001b[0mnew_tracing_count\u001b[0m \u001b[0;34m=\u001b[0m \u001b[0mself\u001b[0m\u001b[0;34m.\u001b[0m\u001b[0mexperimental_get_tracing_count\u001b[0m\u001b[0;34m(\u001b[0m\u001b[0;34m)\u001b[0m\u001b[0;34m\u001b[0m\u001b[0;34m\u001b[0m\u001b[0m\n",
      "\u001b[0;32m~/anaconda3/lib/python3.7/site-packages/tensorflow/python/eager/def_function.py\u001b[0m in \u001b[0;36m_call\u001b[0;34m(self, *args, **kwds)\u001b[0m\n\u001b[1;32m    860\u001b[0m       \u001b[0;31m# This is the first call of __call__, so we have to initialize.\u001b[0m\u001b[0;34m\u001b[0m\u001b[0;34m\u001b[0m\u001b[0;34m\u001b[0m\u001b[0m\n\u001b[1;32m    861\u001b[0m       \u001b[0minitializers\u001b[0m \u001b[0;34m=\u001b[0m \u001b[0;34m[\u001b[0m\u001b[0;34m]\u001b[0m\u001b[0;34m\u001b[0m\u001b[0;34m\u001b[0m\u001b[0m\n\u001b[0;32m--> 862\u001b[0;31m       \u001b[0mself\u001b[0m\u001b[0;34m.\u001b[0m\u001b[0m_initialize\u001b[0m\u001b[0;34m(\u001b[0m\u001b[0margs\u001b[0m\u001b[0;34m,\u001b[0m \u001b[0mkwds\u001b[0m\u001b[0;34m,\u001b[0m \u001b[0madd_initializers_to\u001b[0m\u001b[0;34m=\u001b[0m\u001b[0minitializers\u001b[0m\u001b[0;34m)\u001b[0m\u001b[0;34m\u001b[0m\u001b[0;34m\u001b[0m\u001b[0m\n\u001b[0m\u001b[1;32m    863\u001b[0m     \u001b[0;32mfinally\u001b[0m\u001b[0;34m:\u001b[0m\u001b[0;34m\u001b[0m\u001b[0;34m\u001b[0m\u001b[0m\n\u001b[1;32m    864\u001b[0m       \u001b[0;31m# At this point we know that the initialization is complete (or less\u001b[0m\u001b[0;34m\u001b[0m\u001b[0;34m\u001b[0m\u001b[0;34m\u001b[0m\u001b[0m\n",
      "\u001b[0;32m~/anaconda3/lib/python3.7/site-packages/tensorflow/python/eager/def_function.py\u001b[0m in \u001b[0;36m_initialize\u001b[0;34m(self, args, kwds, add_initializers_to)\u001b[0m\n\u001b[1;32m    702\u001b[0m     self._concrete_stateful_fn = (\n\u001b[1;32m    703\u001b[0m         self._stateful_fn._get_concrete_function_internal_garbage_collected(  # pylint: disable=protected-access\n\u001b[0;32m--> 704\u001b[0;31m             *args, **kwds))\n\u001b[0m\u001b[1;32m    705\u001b[0m \u001b[0;34m\u001b[0m\u001b[0m\n\u001b[1;32m    706\u001b[0m     compiled = bool(self._jit_compile and\n",
      "\u001b[0;32m~/anaconda3/lib/python3.7/site-packages/tensorflow/python/eager/function.py\u001b[0m in \u001b[0;36m_get_concrete_function_internal_garbage_collected\u001b[0;34m(self, *args, **kwargs)\u001b[0m\n\u001b[1;32m   3018\u001b[0m       \u001b[0margs\u001b[0m\u001b[0;34m,\u001b[0m \u001b[0mkwargs\u001b[0m \u001b[0;34m=\u001b[0m \u001b[0;32mNone\u001b[0m\u001b[0;34m,\u001b[0m \u001b[0;32mNone\u001b[0m\u001b[0;34m\u001b[0m\u001b[0;34m\u001b[0m\u001b[0m\n\u001b[1;32m   3019\u001b[0m     \u001b[0;32mwith\u001b[0m \u001b[0mself\u001b[0m\u001b[0;34m.\u001b[0m\u001b[0m_lock\u001b[0m\u001b[0;34m:\u001b[0m\u001b[0;34m\u001b[0m\u001b[0;34m\u001b[0m\u001b[0m\n\u001b[0;32m-> 3020\u001b[0;31m       \u001b[0mgraph_function\u001b[0m\u001b[0;34m,\u001b[0m \u001b[0m_\u001b[0m \u001b[0;34m=\u001b[0m \u001b[0mself\u001b[0m\u001b[0;34m.\u001b[0m\u001b[0m_maybe_define_function\u001b[0m\u001b[0;34m(\u001b[0m\u001b[0margs\u001b[0m\u001b[0;34m,\u001b[0m \u001b[0mkwargs\u001b[0m\u001b[0;34m)\u001b[0m\u001b[0;34m\u001b[0m\u001b[0;34m\u001b[0m\u001b[0m\n\u001b[0m\u001b[1;32m   3021\u001b[0m     \u001b[0;32mreturn\u001b[0m \u001b[0mgraph_function\u001b[0m\u001b[0;34m\u001b[0m\u001b[0;34m\u001b[0m\u001b[0m\n\u001b[1;32m   3022\u001b[0m \u001b[0;34m\u001b[0m\u001b[0m\n",
      "\u001b[0;32m~/anaconda3/lib/python3.7/site-packages/tensorflow/python/eager/function.py\u001b[0m in \u001b[0;36m_maybe_define_function\u001b[0;34m(self, args, kwargs)\u001b[0m\n\u001b[1;32m   3412\u001b[0m \u001b[0;34m\u001b[0m\u001b[0m\n\u001b[1;32m   3413\u001b[0m           \u001b[0mself\u001b[0m\u001b[0;34m.\u001b[0m\u001b[0m_function_cache\u001b[0m\u001b[0;34m.\u001b[0m\u001b[0mmissed\u001b[0m\u001b[0;34m.\u001b[0m\u001b[0madd\u001b[0m\u001b[0;34m(\u001b[0m\u001b[0mcall_context_key\u001b[0m\u001b[0;34m)\u001b[0m\u001b[0;34m\u001b[0m\u001b[0;34m\u001b[0m\u001b[0m\n\u001b[0;32m-> 3414\u001b[0;31m           \u001b[0mgraph_function\u001b[0m \u001b[0;34m=\u001b[0m \u001b[0mself\u001b[0m\u001b[0;34m.\u001b[0m\u001b[0m_create_graph_function\u001b[0m\u001b[0;34m(\u001b[0m\u001b[0margs\u001b[0m\u001b[0;34m,\u001b[0m \u001b[0mkwargs\u001b[0m\u001b[0;34m)\u001b[0m\u001b[0;34m\u001b[0m\u001b[0;34m\u001b[0m\u001b[0m\n\u001b[0m\u001b[1;32m   3415\u001b[0m           \u001b[0mself\u001b[0m\u001b[0;34m.\u001b[0m\u001b[0m_function_cache\u001b[0m\u001b[0;34m.\u001b[0m\u001b[0mprimary\u001b[0m\u001b[0;34m[\u001b[0m\u001b[0mcache_key\u001b[0m\u001b[0;34m]\u001b[0m \u001b[0;34m=\u001b[0m \u001b[0mgraph_function\u001b[0m\u001b[0;34m\u001b[0m\u001b[0;34m\u001b[0m\u001b[0m\n\u001b[1;32m   3416\u001b[0m \u001b[0;34m\u001b[0m\u001b[0m\n",
      "\u001b[0;32m~/anaconda3/lib/python3.7/site-packages/tensorflow/python/eager/function.py\u001b[0m in \u001b[0;36m_create_graph_function\u001b[0;34m(self, args, kwargs, override_flat_arg_shapes)\u001b[0m\n\u001b[1;32m   3257\u001b[0m             \u001b[0marg_names\u001b[0m\u001b[0;34m=\u001b[0m\u001b[0marg_names\u001b[0m\u001b[0;34m,\u001b[0m\u001b[0;34m\u001b[0m\u001b[0;34m\u001b[0m\u001b[0m\n\u001b[1;32m   3258\u001b[0m             \u001b[0moverride_flat_arg_shapes\u001b[0m\u001b[0;34m=\u001b[0m\u001b[0moverride_flat_arg_shapes\u001b[0m\u001b[0;34m,\u001b[0m\u001b[0;34m\u001b[0m\u001b[0;34m\u001b[0m\u001b[0m\n\u001b[0;32m-> 3259\u001b[0;31m             capture_by_value=self._capture_by_value),\n\u001b[0m\u001b[1;32m   3260\u001b[0m         \u001b[0mself\u001b[0m\u001b[0;34m.\u001b[0m\u001b[0m_function_attributes\u001b[0m\u001b[0;34m,\u001b[0m\u001b[0;34m\u001b[0m\u001b[0;34m\u001b[0m\u001b[0m\n\u001b[1;32m   3261\u001b[0m         \u001b[0mfunction_spec\u001b[0m\u001b[0;34m=\u001b[0m\u001b[0mself\u001b[0m\u001b[0;34m.\u001b[0m\u001b[0mfunction_spec\u001b[0m\u001b[0;34m,\u001b[0m\u001b[0;34m\u001b[0m\u001b[0;34m\u001b[0m\u001b[0m\n",
      "\u001b[0;32m~/anaconda3/lib/python3.7/site-packages/tensorflow/python/framework/func_graph.py\u001b[0m in \u001b[0;36mfunc_graph_from_py_func\u001b[0;34m(name, python_func, args, kwargs, signature, func_graph, autograph, autograph_options, add_control_dependencies, arg_names, op_return_value, collections, capture_by_value, override_flat_arg_shapes)\u001b[0m\n\u001b[1;32m    996\u001b[0m         \u001b[0m_\u001b[0m\u001b[0;34m,\u001b[0m \u001b[0moriginal_func\u001b[0m \u001b[0;34m=\u001b[0m \u001b[0mtf_decorator\u001b[0m\u001b[0;34m.\u001b[0m\u001b[0munwrap\u001b[0m\u001b[0;34m(\u001b[0m\u001b[0mpython_func\u001b[0m\u001b[0;34m)\u001b[0m\u001b[0;34m\u001b[0m\u001b[0;34m\u001b[0m\u001b[0m\n\u001b[1;32m    997\u001b[0m \u001b[0;34m\u001b[0m\u001b[0m\n\u001b[0;32m--> 998\u001b[0;31m       \u001b[0mfunc_outputs\u001b[0m \u001b[0;34m=\u001b[0m \u001b[0mpython_func\u001b[0m\u001b[0;34m(\u001b[0m\u001b[0;34m*\u001b[0m\u001b[0mfunc_args\u001b[0m\u001b[0;34m,\u001b[0m \u001b[0;34m**\u001b[0m\u001b[0mfunc_kwargs\u001b[0m\u001b[0;34m)\u001b[0m\u001b[0;34m\u001b[0m\u001b[0;34m\u001b[0m\u001b[0m\n\u001b[0m\u001b[1;32m    999\u001b[0m \u001b[0;34m\u001b[0m\u001b[0m\n\u001b[1;32m   1000\u001b[0m       \u001b[0;31m# invariant: `func_outputs` contains only Tensors, CompositeTensors,\u001b[0m\u001b[0;34m\u001b[0m\u001b[0;34m\u001b[0m\u001b[0;34m\u001b[0m\u001b[0m\n",
      "\u001b[0;32m~/anaconda3/lib/python3.7/site-packages/tensorflow/python/eager/def_function.py\u001b[0m in \u001b[0;36mwrapped_fn\u001b[0;34m(*args, **kwds)\u001b[0m\n\u001b[1;32m    610\u001b[0m             \u001b[0mxla_context\u001b[0m\u001b[0;34m.\u001b[0m\u001b[0mExit\u001b[0m\u001b[0;34m(\u001b[0m\u001b[0;34m)\u001b[0m\u001b[0;34m\u001b[0m\u001b[0;34m\u001b[0m\u001b[0m\n\u001b[1;32m    611\u001b[0m         \u001b[0;32melse\u001b[0m\u001b[0;34m:\u001b[0m\u001b[0;34m\u001b[0m\u001b[0;34m\u001b[0m\u001b[0m\n\u001b[0;32m--> 612\u001b[0;31m           \u001b[0mout\u001b[0m \u001b[0;34m=\u001b[0m \u001b[0mweak_wrapped_fn\u001b[0m\u001b[0;34m(\u001b[0m\u001b[0;34m)\u001b[0m\u001b[0;34m.\u001b[0m\u001b[0m__wrapped__\u001b[0m\u001b[0;34m(\u001b[0m\u001b[0;34m*\u001b[0m\u001b[0margs\u001b[0m\u001b[0;34m,\u001b[0m \u001b[0;34m**\u001b[0m\u001b[0mkwds\u001b[0m\u001b[0;34m)\u001b[0m\u001b[0;34m\u001b[0m\u001b[0;34m\u001b[0m\u001b[0m\n\u001b[0m\u001b[1;32m    613\u001b[0m         \u001b[0;32mreturn\u001b[0m \u001b[0mout\u001b[0m\u001b[0;34m\u001b[0m\u001b[0;34m\u001b[0m\u001b[0m\n\u001b[1;32m    614\u001b[0m \u001b[0;34m\u001b[0m\u001b[0m\n",
      "\u001b[0;32m~/anaconda3/lib/python3.7/site-packages/tensorflow/python/framework/func_graph.py\u001b[0m in \u001b[0;36mwrapper\u001b[0;34m(*args, **kwargs)\u001b[0m\n\u001b[1;32m    983\u001b[0m           \u001b[0;32mexcept\u001b[0m \u001b[0mException\u001b[0m \u001b[0;32mas\u001b[0m \u001b[0me\u001b[0m\u001b[0;34m:\u001b[0m  \u001b[0;31m# pylint:disable=broad-except\u001b[0m\u001b[0;34m\u001b[0m\u001b[0;34m\u001b[0m\u001b[0m\n\u001b[1;32m    984\u001b[0m             \u001b[0;32mif\u001b[0m \u001b[0mhasattr\u001b[0m\u001b[0;34m(\u001b[0m\u001b[0me\u001b[0m\u001b[0;34m,\u001b[0m \u001b[0;34m\"ag_error_metadata\"\u001b[0m\u001b[0;34m)\u001b[0m\u001b[0;34m:\u001b[0m\u001b[0;34m\u001b[0m\u001b[0;34m\u001b[0m\u001b[0m\n\u001b[0;32m--> 985\u001b[0;31m               \u001b[0;32mraise\u001b[0m \u001b[0me\u001b[0m\u001b[0;34m.\u001b[0m\u001b[0mag_error_metadata\u001b[0m\u001b[0;34m.\u001b[0m\u001b[0mto_exception\u001b[0m\u001b[0;34m(\u001b[0m\u001b[0me\u001b[0m\u001b[0;34m)\u001b[0m\u001b[0;34m\u001b[0m\u001b[0;34m\u001b[0m\u001b[0m\n\u001b[0m\u001b[1;32m    986\u001b[0m             \u001b[0;32melse\u001b[0m\u001b[0;34m:\u001b[0m\u001b[0;34m\u001b[0m\u001b[0;34m\u001b[0m\u001b[0m\n\u001b[1;32m    987\u001b[0m               \u001b[0;32mraise\u001b[0m\u001b[0;34m\u001b[0m\u001b[0;34m\u001b[0m\u001b[0m\n",
      "\u001b[0;31mValueError\u001b[0m: in user code:\n\n    /home/pedrozamboni/anaconda3/lib/python3.7/site-packages/tensorflow/python/keras/engine/training.py:839 train_function  *\n        return step_function(self, iterator)\n    /home/pedrozamboni/anaconda3/lib/python3.7/site-packages/tensorflow/python/keras/engine/training.py:829 step_function  **\n        outputs = model.distribute_strategy.run(run_step, args=(data,))\n    /home/pedrozamboni/anaconda3/lib/python3.7/site-packages/tensorflow/python/distribute/distribute_lib.py:1262 run\n        return self._extended.call_for_each_replica(fn, args=args, kwargs=kwargs)\n    /home/pedrozamboni/anaconda3/lib/python3.7/site-packages/tensorflow/python/distribute/distribute_lib.py:2734 call_for_each_replica\n        return self._call_for_each_replica(fn, args, kwargs)\n    /home/pedrozamboni/anaconda3/lib/python3.7/site-packages/tensorflow/python/distribute/distribute_lib.py:3423 _call_for_each_replica\n        return fn(*args, **kwargs)\n    /home/pedrozamboni/anaconda3/lib/python3.7/site-packages/tensorflow/python/keras/engine/training.py:822 run_step  **\n        outputs = model.train_step(data)\n    /home/pedrozamboni/anaconda3/lib/python3.7/site-packages/tensorflow/python/keras/engine/training.py:788 train_step\n        y_pred = self(x, training=True)\n    /home/pedrozamboni/anaconda3/lib/python3.7/site-packages/tensorflow/python/keras/engine/base_layer.py:1018 __call__\n        input_spec.assert_input_compatibility(self.input_spec, inputs, self.name)\n    /home/pedrozamboni/anaconda3/lib/python3.7/site-packages/tensorflow/python/keras/engine/input_spec.py:223 assert_input_compatibility\n        str(tuple(shape)))\n\n    ValueError: Input 0 of layer sequential_16 is incompatible with the layer: expected ndim=3, found ndim=2. Full shape received: (None, 24)\n"
     ]
    }
   ],
   "source": [
    "model.fit(X_train, y_train,\n",
    "          validation_split=0.1,\n",
    "          epochs=20)"
   ]
  },
  {
   "cell_type": "code",
   "execution_count": null,
   "metadata": {},
   "outputs": [],
   "source": []
  }
 ],
 "metadata": {
  "accelerator": "GPU",
  "colab": {
   "name": "Untitled17.ipynb",
   "provenance": []
  },
  "kernelspec": {
   "display_name": "Python 3",
   "language": "python",
   "name": "python3"
  },
  "language_info": {
   "codemirror_mode": {
    "name": "ipython",
    "version": 3
   },
   "file_extension": ".py",
   "mimetype": "text/x-python",
   "name": "python",
   "nbconvert_exporter": "python",
   "pygments_lexer": "ipython3",
   "version": "3.7.6"
  }
 },
 "nbformat": 4,
 "nbformat_minor": 4
}
