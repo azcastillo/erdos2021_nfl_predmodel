{
 "cells": [
  {
   "cell_type": "code",
   "execution_count": 2,
   "metadata": {},
   "outputs": [],
   "source": [
    "import pandas as pd \n",
    "import numpy as np \n",
    "import matplotlib.pyplot as plt \n",
    "import seaborn as sns "
   ]
  },
  {
   "cell_type": "markdown",
   "metadata": {},
   "source": [
    "### Players data frame "
   ]
  },
  {
   "cell_type": "code",
   "execution_count": 3,
   "metadata": {
    "scrolled": true
   },
   "outputs": [
    {
     "data": {
      "text/html": [
       "<div>\n",
       "<style scoped>\n",
       "    .dataframe tbody tr th:only-of-type {\n",
       "        vertical-align: middle;\n",
       "    }\n",
       "\n",
       "    .dataframe tbody tr th {\n",
       "        vertical-align: top;\n",
       "    }\n",
       "\n",
       "    .dataframe thead th {\n",
       "        text-align: right;\n",
       "    }\n",
       "</style>\n",
       "<table border=\"1\" class=\"dataframe\">\n",
       "  <thead>\n",
       "    <tr style=\"text-align: right;\">\n",
       "      <th></th>\n",
       "      <th>nflId</th>\n",
       "      <th>height</th>\n",
       "      <th>weight</th>\n",
       "      <th>birthDate</th>\n",
       "      <th>collegeName</th>\n",
       "      <th>position</th>\n",
       "      <th>displayName</th>\n",
       "    </tr>\n",
       "  </thead>\n",
       "  <tbody>\n",
       "    <tr>\n",
       "      <th>0</th>\n",
       "      <td>2539334</td>\n",
       "      <td>72</td>\n",
       "      <td>190</td>\n",
       "      <td>1990-09-10</td>\n",
       "      <td>Washington</td>\n",
       "      <td>CB</td>\n",
       "      <td>Desmond Trufant</td>\n",
       "    </tr>\n",
       "    <tr>\n",
       "      <th>1</th>\n",
       "      <td>2539653</td>\n",
       "      <td>70</td>\n",
       "      <td>186</td>\n",
       "      <td>1988-11-01</td>\n",
       "      <td>Southeastern Louisiana</td>\n",
       "      <td>CB</td>\n",
       "      <td>Robert Alford</td>\n",
       "    </tr>\n",
       "    <tr>\n",
       "      <th>2</th>\n",
       "      <td>2543850</td>\n",
       "      <td>69</td>\n",
       "      <td>186</td>\n",
       "      <td>1991-12-18</td>\n",
       "      <td>Purdue</td>\n",
       "      <td>SS</td>\n",
       "      <td>Ricardo Allen</td>\n",
       "    </tr>\n",
       "    <tr>\n",
       "      <th>3</th>\n",
       "      <td>2555162</td>\n",
       "      <td>73</td>\n",
       "      <td>227</td>\n",
       "      <td>1994-11-04</td>\n",
       "      <td>Louisiana State</td>\n",
       "      <td>MLB</td>\n",
       "      <td>Deion Jones</td>\n",
       "    </tr>\n",
       "    <tr>\n",
       "      <th>4</th>\n",
       "      <td>2555255</td>\n",
       "      <td>75</td>\n",
       "      <td>232</td>\n",
       "      <td>1993-07-01</td>\n",
       "      <td>Minnesota</td>\n",
       "      <td>OLB</td>\n",
       "      <td>De'Vondre Campbell</td>\n",
       "    </tr>\n",
       "  </tbody>\n",
       "</table>\n",
       "</div>"
      ],
      "text/plain": [
       "     nflId height  weight   birthDate             collegeName position  \\\n",
       "0  2539334     72     190  1990-09-10              Washington       CB   \n",
       "1  2539653     70     186  1988-11-01  Southeastern Louisiana       CB   \n",
       "2  2543850     69     186  1991-12-18                  Purdue       SS   \n",
       "3  2555162     73     227  1994-11-04         Louisiana State      MLB   \n",
       "4  2555255     75     232  1993-07-01               Minnesota      OLB   \n",
       "\n",
       "          displayName  \n",
       "0     Desmond Trufant  \n",
       "1       Robert Alford  \n",
       "2       Ricardo Allen  \n",
       "3         Deion Jones  \n",
       "4  De'Vondre Campbell  "
      ]
     },
     "execution_count": 3,
     "metadata": {},
     "output_type": "execute_result"
    }
   ],
   "source": [
    "#players data frame \n",
    "players_df=pd.read_csv('../nfl_data/players.csv')\n",
    "players_df.head()"
   ]
  },
  {
   "cell_type": "code",
   "execution_count": 4,
   "metadata": {},
   "outputs": [
    {
     "data": {
      "text/plain": [
       "Alabama                33\n",
       "Ohio State             28\n",
       "Florida State          27\n",
       "Florida                26\n",
       "Louisiana State        25\n",
       "Miami                  24\n",
       "Georgia                23\n",
       "Clemson                23\n",
       "Stanford               22\n",
       "Oklahoma               20\n",
       "Washington             20\n",
       "Auburn                 19\n",
       "Penn State             19\n",
       "Notre Dame             19\n",
       "Texas                  18\n",
       "South Carolina         18\n",
       "Southern California    18\n",
       "Texas A&M              17\n",
       "Central Florida        16\n",
       "Mississippi            15\n",
       "Name: collegeName, dtype: int64"
      ]
     },
     "execution_count": 4,
     "metadata": {},
     "output_type": "execute_result"
    }
   ],
   "source": [
    "players_df.collegeName.value_counts()[:20]"
   ]
  },
  {
   "cell_type": "code",
   "execution_count": 5,
   "metadata": {
    "scrolled": true
   },
   "outputs": [
    {
     "data": {
      "text/plain": [
       "['Alabama',\n",
       " 'Ohio State',\n",
       " 'Florida State',\n",
       " 'Florida',\n",
       " 'Louisiana State',\n",
       " 'Miami',\n",
       " 'Georgia',\n",
       " 'Clemson',\n",
       " 'Stanford',\n",
       " 'Oklahoma',\n",
       " 'Washington',\n",
       " 'Auburn',\n",
       " 'Penn State',\n",
       " 'Notre Dame',\n",
       " 'Texas',\n",
       " 'South Carolina',\n",
       " 'Southern California',\n",
       " 'Texas A&M',\n",
       " 'Central Florida',\n",
       " 'Mississippi']"
      ]
     },
     "execution_count": 5,
     "metadata": {},
     "output_type": "execute_result"
    }
   ],
   "source": [
    "#Get the top 15 colleges with the most nfl players \n",
    "most_nfl_players_list=list(players_df.collegeName.value_counts()[:20].index)\n",
    "most_nfl_players_list"
   ]
  },
  {
   "cell_type": "code",
   "execution_count": 6,
   "metadata": {},
   "outputs": [
    {
     "data": {
      "text/html": [
       "<div>\n",
       "<style scoped>\n",
       "    .dataframe tbody tr th:only-of-type {\n",
       "        vertical-align: middle;\n",
       "    }\n",
       "\n",
       "    .dataframe tbody tr th {\n",
       "        vertical-align: top;\n",
       "    }\n",
       "\n",
       "    .dataframe thead th {\n",
       "        text-align: right;\n",
       "    }\n",
       "</style>\n",
       "<table border=\"1\" class=\"dataframe\">\n",
       "  <thead>\n",
       "    <tr style=\"text-align: right;\">\n",
       "      <th></th>\n",
       "      <th>nflId</th>\n",
       "      <th>height</th>\n",
       "      <th>weight</th>\n",
       "      <th>birthDate</th>\n",
       "      <th>collegeName</th>\n",
       "      <th>position</th>\n",
       "      <th>displayName</th>\n",
       "    </tr>\n",
       "  </thead>\n",
       "  <tbody>\n",
       "    <tr>\n",
       "      <th>0</th>\n",
       "      <td>2539334</td>\n",
       "      <td>72</td>\n",
       "      <td>190</td>\n",
       "      <td>1990-09-10</td>\n",
       "      <td>Washington</td>\n",
       "      <td>CB</td>\n",
       "      <td>Desmond Trufant</td>\n",
       "    </tr>\n",
       "    <tr>\n",
       "      <th>3</th>\n",
       "      <td>2555162</td>\n",
       "      <td>73</td>\n",
       "      <td>227</td>\n",
       "      <td>1994-11-04</td>\n",
       "      <td>Louisiana State</td>\n",
       "      <td>MLB</td>\n",
       "      <td>Deion Jones</td>\n",
       "    </tr>\n",
       "    <tr>\n",
       "      <th>5</th>\n",
       "      <td>2555543</td>\n",
       "      <td>73</td>\n",
       "      <td>216</td>\n",
       "      <td>1995-07-26</td>\n",
       "      <td>Florida</td>\n",
       "      <td>FS</td>\n",
       "      <td>Keanu Neal</td>\n",
       "    </tr>\n",
       "    <tr>\n",
       "      <th>6</th>\n",
       "      <td>2556445</td>\n",
       "      <td>70</td>\n",
       "      <td>211</td>\n",
       "      <td>1992-10-20</td>\n",
       "      <td>Florida</td>\n",
       "      <td>CB</td>\n",
       "      <td>Brian Poole</td>\n",
       "    </tr>\n",
       "    <tr>\n",
       "      <th>7</th>\n",
       "      <td>2507763</td>\n",
       "      <td>6-0</td>\n",
       "      <td>200</td>\n",
       "      <td>08/01/1986</td>\n",
       "      <td>Mississippi</td>\n",
       "      <td>WR</td>\n",
       "      <td>Mike Wallace</td>\n",
       "    </tr>\n",
       "    <tr>\n",
       "      <th>...</th>\n",
       "      <td>...</td>\n",
       "      <td>...</td>\n",
       "      <td>...</td>\n",
       "      <td>...</td>\n",
       "      <td>...</td>\n",
       "      <td>...</td>\n",
       "      <td>...</td>\n",
       "    </tr>\n",
       "    <tr>\n",
       "      <th>1278</th>\n",
       "      <td>2558819</td>\n",
       "      <td>6-2</td>\n",
       "      <td>188</td>\n",
       "      <td>12/04/1994</td>\n",
       "      <td>Mississippi</td>\n",
       "      <td>CB</td>\n",
       "      <td>Derrick Jones</td>\n",
       "    </tr>\n",
       "    <tr>\n",
       "      <th>1279</th>\n",
       "      <td>2552397</td>\n",
       "      <td>76</td>\n",
       "      <td>252</td>\n",
       "      <td>1991-10-01</td>\n",
       "      <td>Miami</td>\n",
       "      <td>TE</td>\n",
       "      <td>Clive Walford</td>\n",
       "    </tr>\n",
       "    <tr>\n",
       "      <th>1289</th>\n",
       "      <td>496816</td>\n",
       "      <td>76</td>\n",
       "      <td>300</td>\n",
       "      <td>1988-02-25</td>\n",
       "      <td>Oklahoma</td>\n",
       "      <td>DT</td>\n",
       "      <td>Gerald McCoy</td>\n",
       "    </tr>\n",
       "    <tr>\n",
       "      <th>1292</th>\n",
       "      <td>2560909</td>\n",
       "      <td>76</td>\n",
       "      <td>347</td>\n",
       "      <td>1995-02-05</td>\n",
       "      <td>Washington</td>\n",
       "      <td>DT</td>\n",
       "      <td>Vita Vea</td>\n",
       "    </tr>\n",
       "    <tr>\n",
       "      <th>1296</th>\n",
       "      <td>2541903</td>\n",
       "      <td>73</td>\n",
       "      <td>220</td>\n",
       "      <td>1990-04-18</td>\n",
       "      <td>Oklahoma</td>\n",
       "      <td>P</td>\n",
       "      <td>Tress Way</td>\n",
       "    </tr>\n",
       "  </tbody>\n",
       "</table>\n",
       "<p>430 rows × 7 columns</p>\n",
       "</div>"
      ],
      "text/plain": [
       "        nflId height  weight   birthDate      collegeName position  \\\n",
       "0     2539334     72     190  1990-09-10       Washington       CB   \n",
       "3     2555162     73     227  1994-11-04  Louisiana State      MLB   \n",
       "5     2555543     73     216  1995-07-26          Florida       FS   \n",
       "6     2556445     70     211  1992-10-20          Florida       CB   \n",
       "7     2507763    6-0     200  08/01/1986      Mississippi       WR   \n",
       "...       ...    ...     ...         ...              ...      ...   \n",
       "1278  2558819    6-2     188  12/04/1994      Mississippi       CB   \n",
       "1279  2552397     76     252  1991-10-01            Miami       TE   \n",
       "1289   496816     76     300  1988-02-25         Oklahoma       DT   \n",
       "1292  2560909     76     347  1995-02-05       Washington       DT   \n",
       "1296  2541903     73     220  1990-04-18         Oklahoma        P   \n",
       "\n",
       "          displayName  \n",
       "0     Desmond Trufant  \n",
       "3         Deion Jones  \n",
       "5          Keanu Neal  \n",
       "6         Brian Poole  \n",
       "7        Mike Wallace  \n",
       "...               ...  \n",
       "1278    Derrick Jones  \n",
       "1279    Clive Walford  \n",
       "1289     Gerald McCoy  \n",
       "1292         Vita Vea  \n",
       "1296        Tress Way  \n",
       "\n",
       "[430 rows x 7 columns]"
      ]
     },
     "execution_count": 6,
     "metadata": {},
     "output_type": "execute_result"
    }
   ],
   "source": [
    "#get a data frame of the above listed colleges \n",
    "most_nfl_players_df=players_df.loc[players_df['collegeName'].isin(most_nfl_players_list)]\n",
    "most_nfl_players_df"
   ]
  },
  {
   "cell_type": "code",
   "execution_count": 7,
   "metadata": {
    "scrolled": false
   },
   "outputs": [
    {
     "data": {
      "image/png": "[encoded data removed]",
      "text/plain": [
       "<Figure size 1152x720 with 1 Axes>"
      ]
     },
     "metadata": {
      "needs_background": "light"
     },
     "output_type": "display_data"
    }
   ],
   "source": [
    "#Find out the college with the most professional players \n",
    "\n",
    "#Create a countplot for the number of positions that are accounted for in the data \n",
    "#As we would probably guess, the predominant position groups are the cornerbacks and \n",
    "#wide recievers. \n",
    "plt.figure(figsize = (16,10))\n",
    "ax=sns.countplot(x='collegeName', data=most_nfl_players_df )\n",
    "plt.setp(ax.get_xticklabels(), rotation=45)\n",
    "plt.show()\n",
    "\n",
    " "
   ]
  },
  {
   "cell_type": "markdown",
   "metadata": {},
   "source": [
    "Looks like The University of Alabama has the most players in the NFL at the moment with Ohio state in a close second. "
   ]
  },
  {
   "cell_type": "code",
   "execution_count": 8,
   "metadata": {
    "scrolled": false
   },
   "outputs": [
    {
     "data": {
      "text/html": [
       "<div>\n",
       "<style scoped>\n",
       "    .dataframe tbody tr th:only-of-type {\n",
       "        vertical-align: middle;\n",
       "    }\n",
       "\n",
       "    .dataframe tbody tr th {\n",
       "        vertical-align: top;\n",
       "    }\n",
       "\n",
       "    .dataframe thead th {\n",
       "        text-align: right;\n",
       "    }\n",
       "</style>\n",
       "<table border=\"1\" class=\"dataframe\">\n",
       "  <thead>\n",
       "    <tr style=\"text-align: right;\">\n",
       "      <th></th>\n",
       "      <th>nflId</th>\n",
       "      <th>height</th>\n",
       "      <th>weight</th>\n",
       "      <th>birthDate</th>\n",
       "      <th>collegeName</th>\n",
       "      <th>position</th>\n",
       "      <th>displayName</th>\n",
       "    </tr>\n",
       "  </thead>\n",
       "  <tbody>\n",
       "    <tr>\n",
       "      <th>0</th>\n",
       "      <td>2539334</td>\n",
       "      <td>72</td>\n",
       "      <td>190</td>\n",
       "      <td>1990-09-10</td>\n",
       "      <td>Washington</td>\n",
       "      <td>CB</td>\n",
       "      <td>Desmond Trufant</td>\n",
       "    </tr>\n",
       "    <tr>\n",
       "      <th>5</th>\n",
       "      <td>2555543</td>\n",
       "      <td>73</td>\n",
       "      <td>216</td>\n",
       "      <td>1995-07-26</td>\n",
       "      <td>Florida</td>\n",
       "      <td>FS</td>\n",
       "      <td>Keanu Neal</td>\n",
       "    </tr>\n",
       "    <tr>\n",
       "      <th>6</th>\n",
       "      <td>2556445</td>\n",
       "      <td>70</td>\n",
       "      <td>211</td>\n",
       "      <td>1992-10-20</td>\n",
       "      <td>Florida</td>\n",
       "      <td>CB</td>\n",
       "      <td>Brian Poole</td>\n",
       "    </tr>\n",
       "    <tr>\n",
       "      <th>25</th>\n",
       "      <td>79848</td>\n",
       "      <td>72</td>\n",
       "      <td>204</td>\n",
       "      <td>1987-12-20</td>\n",
       "      <td>Ohio State</td>\n",
       "      <td>SS</td>\n",
       "      <td>Malcolm Jenkins</td>\n",
       "    </tr>\n",
       "    <tr>\n",
       "      <th>28</th>\n",
       "      <td>2552689</td>\n",
       "      <td>71</td>\n",
       "      <td>193</td>\n",
       "      <td>1994-01-02</td>\n",
       "      <td>Florida State</td>\n",
       "      <td>CB</td>\n",
       "      <td>Ronald Darby</td>\n",
       "    </tr>\n",
       "    <tr>\n",
       "      <th>...</th>\n",
       "      <td>...</td>\n",
       "      <td>...</td>\n",
       "      <td>...</td>\n",
       "      <td>...</td>\n",
       "      <td>...</td>\n",
       "      <td>...</td>\n",
       "      <td>...</td>\n",
       "    </tr>\n",
       "    <tr>\n",
       "      <th>1144</th>\n",
       "      <td>2560914</td>\n",
       "      <td>72</td>\n",
       "      <td>179</td>\n",
       "      <td>1995-06-12</td>\n",
       "      <td>Alabama</td>\n",
       "      <td>CB</td>\n",
       "      <td>Levi Wallace</td>\n",
       "    </tr>\n",
       "    <tr>\n",
       "      <th>1209</th>\n",
       "      <td>2560956</td>\n",
       "      <td>74</td>\n",
       "      <td>215</td>\n",
       "      <td>1996-08-07</td>\n",
       "      <td>Penn State</td>\n",
       "      <td>DB</td>\n",
       "      <td>Marcus Allen</td>\n",
       "    </tr>\n",
       "    <tr>\n",
       "      <th>1241</th>\n",
       "      <td>2556371</td>\n",
       "      <td>72</td>\n",
       "      <td>200</td>\n",
       "      <td>1992-09-09</td>\n",
       "      <td>Texas A&amp;M</td>\n",
       "      <td>CB</td>\n",
       "      <td>Brandon Williams</td>\n",
       "    </tr>\n",
       "    <tr>\n",
       "      <th>1248</th>\n",
       "      <td>2558858</td>\n",
       "      <td>5-11</td>\n",
       "      <td>195</td>\n",
       "      <td>06/25/1994</td>\n",
       "      <td>Auburn</td>\n",
       "      <td>CB</td>\n",
       "      <td>Joshua Holsey</td>\n",
       "    </tr>\n",
       "    <tr>\n",
       "      <th>1278</th>\n",
       "      <td>2558819</td>\n",
       "      <td>6-2</td>\n",
       "      <td>188</td>\n",
       "      <td>12/04/1994</td>\n",
       "      <td>Mississippi</td>\n",
       "      <td>CB</td>\n",
       "      <td>Derrick Jones</td>\n",
       "    </tr>\n",
       "  </tbody>\n",
       "</table>\n",
       "<p>119 rows × 7 columns</p>\n",
       "</div>"
      ],
      "text/plain": [
       "        nflId height  weight   birthDate    collegeName position  \\\n",
       "0     2539334     72     190  1990-09-10     Washington       CB   \n",
       "5     2555543     73     216  1995-07-26        Florida       FS   \n",
       "6     2556445     70     211  1992-10-20        Florida       CB   \n",
       "25      79848     72     204  1987-12-20     Ohio State       SS   \n",
       "28    2552689     71     193  1994-01-02  Florida State       CB   \n",
       "...       ...    ...     ...         ...            ...      ...   \n",
       "1144  2560914     72     179  1995-06-12        Alabama       CB   \n",
       "1209  2560956     74     215  1996-08-07     Penn State       DB   \n",
       "1241  2556371     72     200  1992-09-09      Texas A&M       CB   \n",
       "1248  2558858   5-11     195  06/25/1994         Auburn       CB   \n",
       "1278  2558819    6-2     188  12/04/1994    Mississippi       CB   \n",
       "\n",
       "           displayName  \n",
       "0      Desmond Trufant  \n",
       "5           Keanu Neal  \n",
       "6          Brian Poole  \n",
       "25     Malcolm Jenkins  \n",
       "28        Ronald Darby  \n",
       "...                ...  \n",
       "1144      Levi Wallace  \n",
       "1209      Marcus Allen  \n",
       "1241  Brandon Williams  \n",
       "1248     Joshua Holsey  \n",
       "1278     Derrick Jones  \n",
       "\n",
       "[119 rows x 7 columns]"
      ]
     },
     "execution_count": 8,
     "metadata": {},
     "output_type": "execute_result"
    }
   ],
   "source": [
    "#Find out the college with the most corner backs and safeties\n",
    "defensive_back_list=['SS', 'FS', 'CB', 'DB']\n",
    "most_def_backs_df=most_nfl_players_df.loc[most_nfl_players_df['position'].isin(defensive_back_list)]\n",
    "most_def_backs_df"
   ]
  },
  {
   "cell_type": "code",
   "execution_count": 9,
   "metadata": {
    "scrolled": false
   },
   "outputs": [
    {
     "data": {
      "image/png": "[encoded data removed]",
      "text/plain": [
       "<Figure size 1152x720 with 1 Axes>"
      ]
     },
     "metadata": {
      "needs_background": "light"
     },
     "output_type": "display_data"
    }
   ],
   "source": [
    "#most_def_backs_df.loc[most_def_backs_df.position=='CB']\n",
    "\n",
    "#Figure out which college has the most defensive backs in the NFL. \n",
    "plt.figure(figsize = (16,10))\n",
    "ax=sns.countplot(x='collegeName', data=most_def_backs_df)\n",
    "plt.setp(ax.get_xticklabels(), rotation=45)\n",
    "plt.show()"
   ]
  },
  {
   "cell_type": "markdown",
   "metadata": {},
   "source": [
    "It looks like during this year.....Alabama was the so called 'DBU'. Regardless, if you are a high school defensive back, it pays to go to Alabama, OSU, Florida, or LSU. "
   ]
  },
  {
   "cell_type": "code",
   "execution_count": 25,
   "metadata": {},
   "outputs": [
    {
     "data": {
      "image/png": "[encoded data removed]",
      "text/plain": [
       "<Figure size 1440x864 with 1 Axes>"
      ]
     },
     "metadata": {
      "needs_background": "light"
     },
     "output_type": "display_data"
    }
   ],
   "source": [
    "#Get distribution of heights and weights \n",
    "plt.figure(figsize=(20,12))\n",
    "\n",
    "ax=plt.hist(players_df['height'])\n",
    "plt.title('Distribution of Players Heights')\n",
    "\n",
    "plt.show()"
   ]
  },
  {
   "cell_type": "code",
   "execution_count": 27,
   "metadata": {},
   "outputs": [
    {
     "data": {
      "image/png": "[encoded data removed]",
      "text/plain": [
       "<Figure size 1440x864 with 1 Axes>"
      ]
     },
     "metadata": {
      "needs_background": "light"
     },
     "output_type": "display_data"
    }
   ],
   "source": [
    "#Get distribution of heights and weights \n",
    "plt.figure(figsize=(20,12))\n",
    "\n",
    "plt.hist(players_df['weight'])\n",
    "plt.title('Distribution of player weights')\n",
    "\n",
    "plt.show()"
   ]
  }
 ],
 "metadata": {
  "kernelspec": {
   "display_name": "Python 3",
   "language": "python",
   "name": "python3"
  },
  "language_info": {
   "codemirror_mode": {
    "name": "ipython",
    "version": 3
   },
   "file_extension": ".py",
   "mimetype": "text/x-python",
   "name": "python",
   "nbconvert_exporter": "python",
   "pygments_lexer": "ipython3",
   "version": "3.9.1"
  }
 },
 "nbformat": 4,
 "nbformat_minor": 4
}
